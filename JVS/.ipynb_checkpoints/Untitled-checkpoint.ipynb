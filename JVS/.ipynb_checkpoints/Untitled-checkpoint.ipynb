{
 "cells": [
  {
   "cell_type": "code",
   "execution_count": null,
   "metadata": {},
   "outputs": [],
   "source": []
  }
 ],
 "metadata": {
  "kernelspec": {
   "name": "Python 3.8.5 64-bit ('pytorch': conda)",
   "display_name": "Python 3.8.5 64-bit ('pytorch': conda)",
   "metadata": {
    "interpreter": {
     "hash": "633d8cdabde0ae38fd14d19a2754d8da1b3046fcbdc05d85d06cbc4ad7c8a98c"
    }
   }
  }
 },
 "nbformat": 4,
 "nbformat_minor": 4
}