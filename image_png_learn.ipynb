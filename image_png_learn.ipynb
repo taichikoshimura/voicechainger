{
 "cells": [
  {
   "cell_type": "code",
   "execution_count": 70,
   "metadata": {},
   "outputs": [],
   "source": [
    "import os\n",
    "import sys\n",
    "import glob\n",
    "import numpy as np\n",
    "from skimage import io\n",
    "#from sklearn import datasets\n",
    "from sklearn import utils\n",
    "import cv2\n",
    " \n",
    "IMAGE_SIZE_X = 120\n",
    "IMAGE_SIZE_Y = 80\n",
    "#COLOR_BYTE = 3\n",
    "COLOR_BYTE = 1\n",
    "CATEGORY_NUM = 6\n",
    "threshhold = 80\n",
    " \n",
    "## ラベル名(0～)を付けたディレクトリに分類されたイメージファイルを読み込む\n",
    "## 入力パスはラベル名の上位のディレクトリ\n",
    "def load_png_bin(path):\n",
    "    # ファイル一覧を取得\n",
    "    files1 = glob.glob(os.path.join(path, '*/*.png'))\n",
    "    files = []\n",
    "    for i in files1:\n",
    "        #大きいファイルを開いて\n",
    "        gazo1 = Image.open(i)\n",
    "        #resizeして\n",
    "        gazo2 = gazo1.resize((IMAGE_SIZE_X,IMAGE_SIZE_Y))\n",
    "        #保存\n",
    "        gazo2.save(i)\n",
    "        #filesに追加\n",
    "        files.append(i)\n",
    "\n",
    "    # イメージとラベル領域を確保\n",
    "    #images = np.ndarray((len(files), IMAGE_SIZE, IMAGE_SIZE,\n",
    "    #                      COLOR_BYTE), dtype = np.uint8)\n",
    "    images = np.ndarray((len(files), IMAGE_SIZE_X, IMAGE_SIZE_Y)\n",
    "                       , dtype = np.uint8)\n",
    "\n",
    "    labels = np.ndarray(len(files), dtype=np.int)\n",
    "\n",
    "    # イメージとラベルを読み込み\n",
    "    for idx, file in enumerate(files):\n",
    "        # イメージ読み込み\n",
    "        img = io.imread(file)\n",
    "        # ディレクトリ名よりラベルを取得\n",
    "        label = os.path.split(os.path.dirname(file))[-1]\n",
    "        labels[idx] = int(label)\n",
    "\n",
    "        # scikit-learn の他のデータセットの形式に合わせる\n",
    "        flat_data = images.reshape((-1, IMAGE_SIZE_X * IMAGE_SIZE_Y * COLOR_BYTE))\n",
    "        images = flat_data.view()\n",
    "    return utils.Bunch(data=images,\n",
    "                 target=labels.astype(np.int),\n",
    "                 target_names=np.arange(CATEGORY_NUM),\n",
    "                 images=images,\n",
    "                 DESCR=None)\n",
    " \n",
    "if __name__ == '__main__':\n",
    "    import matplotlib.pyplot as plt\n",
    "\n",
    "    d = load_png_bin(\"./save_wav_image/1\")\n",
    "    plt.figure(figsize=(8, 8))\n",
    "    # 画像を 2 行 3 列に表示\n",
    "    k = 0\n",
    "    for i in range(6):\n",
    "        for j in range(4):\n",
    "            img = d.images[d.target==i][j]\n",
    "            k += 1\n",
    "            plt.subplot(6,4, k)\n",
    "            plt.axis('off')\n",
    "            plt.imshow(img.reshape(120,80), cmap=\"gray\", interpolation='nearest')\n",
    "            plt.title(i)\n",
    "    plt.tight_layout()\n",
    "    plt.show()"
   ]
  },
  {
   "cell_type": "code",
   "execution_count": 65,
   "metadata": {},
   "outputs": [],
   "source": [
    "import os\n",
    "import sys\n",
    "import glob\n",
    "import numpy as np\n",
    "from skimage import io\n",
    "#from sklearn import datasets\n",
    "from sklearn import utils\n",
    "import cv2\n",
    " \n",
    "IMAGE_SIZE_X = 120\n",
    "IMAGE_SIZE_Y = 80\n",
    "#COLOR_BYTE = 3\n",
    "COLOR_BYTE = 1\n",
    "CATEGORY_NUM = 6\n",
    "threshhold = 80\n",
    " \n",
    "from PIL import Image\n",
    "path = \"./save_wav_image/\"\n",
    "# ファイル一覧を取得\n",
    "files1 = glob.glob(os.path.join(path, '*/*.png'))\n",
    "files = []\n",
    "for i in files1:\n",
    "    #大きいファイルを開いて\n",
    "    gazo1 = Image.open(i)\n",
    "    #resizeして\n",
    "    gazo2 = gazo1.resize((IMAGE_SIZE_X,IMAGE_SIZE_Y))\n",
    "    #保存\n",
    "    gazo2.save(i)\n",
    "    #filesに追加\n",
    "    files.append(i)\n",
    "\n",
    "# イメージとラベル領域を確保\n",
    "#images = np.ndarray((len(files), IMAGE_SIZE, IMAGE_SIZE,\n",
    "#                      COLOR_BYTE), dtype = np.uint8)\n",
    "images = np.ndarray((len(files), IMAGE_SIZE_Y, IMAGE_SIZE_X)\n",
    "                   , dtype = np.uint8)\n",
    "\n",
    "labels = np.ndarray(len(files), dtype=np.int)\n",
    "\n",
    "# イメージとラベルを読み込み\n",
    "for idx, file in enumerate(files):\n",
    "    # イメージ読み込み\n",
    "    img = io.imread(file)\n",
    "\n",
    "\n",
    "    #image = cv2.GaussianBlur(image, (3,3), 0) # 必要に応じて、ぼかしでノイズ対策\n",
    "#     retval,image = cv2.threshold(img, threshhold, 255, cv2.THRESH_BINARY)\n",
    "#     images[idx] = image[:,:,0] | image[:,:,1] | image[:,:,2]\n",
    "\n",
    "    # ディレクトリ名よりラベルを取得\n",
    "    label = os.path.split(os.path.dirname(file))[-1]\n",
    "    labels[idx] = int(label)\n",
    "\n",
    "    # scikit-learn の他のデータセットの形式に合わせる\n",
    "    flat_data = images.reshape((-1, IMAGE_SIZE_X * IMAGE_SIZE_Y * COLOR_BYTE))\n",
    "    images = flat_data.view()"
   ]
  },
  {
   "cell_type": "code",
   "execution_count": 69,
   "metadata": {},
   "outputs": [
    {
     "ename": "IndexError",
     "evalue": "index 0 is out of bounds for axis 0 with size 0",
     "output_type": "error",
     "traceback": [
      "\u001b[0;31m---------------------------------------------------------------------------\u001b[0m",
      "\u001b[0;31mIndexError\u001b[0m                                Traceback (most recent call last)",
      "\u001b[0;32m<ipython-input-69-7652562ae0fe>\u001b[0m in \u001b[0;36m<module>\u001b[0;34m\u001b[0m\n\u001b[1;32m      2\u001b[0m \u001b[0;31m# 画像を 2 行 3 列に表示\u001b[0m\u001b[0;34m\u001b[0m\u001b[0;34m\u001b[0m\u001b[0;34m\u001b[0m\u001b[0m\n\u001b[1;32m      3\u001b[0m \u001b[0;34m\u001b[0m\u001b[0m\n\u001b[0;32m----> 4\u001b[0;31m \u001b[0mimg\u001b[0m \u001b[0;34m=\u001b[0m \u001b[0md\u001b[0m\u001b[0;34m.\u001b[0m\u001b[0mimages\u001b[0m\u001b[0;34m[\u001b[0m\u001b[0md\u001b[0m\u001b[0;34m.\u001b[0m\u001b[0mtarget\u001b[0m\u001b[0;34m==\u001b[0m\u001b[0mi\u001b[0m\u001b[0;34m]\u001b[0m\u001b[0;34m[\u001b[0m\u001b[0mj\u001b[0m\u001b[0;34m]\u001b[0m\u001b[0;34m\u001b[0m\u001b[0;34m\u001b[0m\u001b[0m\n\u001b[0m\u001b[1;32m      5\u001b[0m \u001b[0mk\u001b[0m \u001b[0;34m+=\u001b[0m \u001b[0;36m1\u001b[0m\u001b[0;34m\u001b[0m\u001b[0;34m\u001b[0m\u001b[0m\n\u001b[1;32m      6\u001b[0m \u001b[0mplt\u001b[0m\u001b[0;34m.\u001b[0m\u001b[0msubplot\u001b[0m\u001b[0;34m(\u001b[0m\u001b[0;36m6\u001b[0m\u001b[0;34m,\u001b[0m\u001b[0;36m4\u001b[0m\u001b[0;34m,\u001b[0m \u001b[0mk\u001b[0m\u001b[0;34m)\u001b[0m\u001b[0;34m\u001b[0m\u001b[0;34m\u001b[0m\u001b[0m\n",
      "\u001b[0;31mIndexError\u001b[0m: index 0 is out of bounds for axis 0 with size 0"
     ]
    },
    {
     "data": {
      "text/plain": [
       "<Figure size 432x288 with 0 Axes>"
      ]
     },
     "metadata": {},
     "output_type": "display_data"
    }
   ],
   "source": [
    "\n",
    "plt.figure()\n",
    "# 画像を 2 行 3 列に表示\n",
    "\n",
    "img = d.images[d.target==i][j]\n",
    "k += 1\n",
    "plt.subplot(6,4, k)\n",
    "plt.axis('off')\n",
    "plt.imshow(img.reshape(120,80), cmap=\"gray\", interpolation='nearest')\n",
    "plt.title(i)\n",
    "plt.tight_layout()\n",
    "plt.show()"
   ]
  },
  {
   "cell_type": "code",
   "execution_count": 59,
   "metadata": {},
   "outputs": [
    {
     "name": "stdout",
     "output_type": "stream",
     "text": [
      "80\n"
     ]
    }
   ],
   "source": [
    "print(len(image[:,:,0]))"
   ]
  },
  {
   "cell_type": "code",
   "execution_count": null,
   "metadata": {},
   "outputs": [],
   "source": []
  }
 ],
 "metadata": {
  "kernelspec": {
   "display_name": "Python 3",
   "language": "python",
   "name": "python3"
  },
  "language_info": {
   "codemirror_mode": {
    "name": "ipython",
    "version": 3
   },
   "file_extension": ".py",
   "mimetype": "text/x-python",
   "name": "python",
   "nbconvert_exporter": "python",
   "pygments_lexer": "ipython3",
   "version": "3.6.10"
  }
 },
 "nbformat": 4,
 "nbformat_minor": 4
}
