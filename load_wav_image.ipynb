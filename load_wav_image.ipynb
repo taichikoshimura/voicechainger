{
 "cells": [
  {
   "cell_type": "markdown",
   "metadata": {},
   "source": [
    "import os\n",
    "import sys\n",
    "import glob\n",
    "import numpy as np\n",
    "from skimage import io\n",
    "#from sklearn import datasets\n",
    "from sklearn import utils\n",
    "import cv2\n",
    " \n",
    "IMAGE_SIZE = 40\n",
    "#COLOR_BYTE = 3\n",
    "COLOR_BYTE = 1\n",
    "CATEGORY_NUM = 6\n",
    "threshhold = 80\n",
    " \n",
    "## ラベル名(0～)を付けたディレクトリに分類されたイメージファイルを読み込む\n",
    "## 入力パスはラベル名の上位のディレクトリ\n",
    "def load_handimage_bin(path):\n",
    " \n",
    "    # ファイル一覧を取得\n",
    "    files = glob.glob(os.path.join(path, '*/*.png'))\n",
    " \n",
    "    # イメージとラベル領域を確保\n",
    "    #images = np.ndarray((len(files), IMAGE_SIZE, IMAGE_SIZE,\n",
    "    #                      COLOR_BYTE), dtype = np.uint8)\n",
    "    images = np.ndarray((len(files), IMAGE_SIZE, IMAGE_SIZE)\n",
    "                           , dtype = np.uint8)\n",
    " \n",
    "    labels = np.ndarray(len(files), dtype=np.int)\n",
    " \n",
    "    # イメージとラベルを読み込み\n",
    "    for idx, file in enumerate(files):\n",
    "        # イメージ読み込み\n",
    "        image = io.imread(file)\n",
    "        #image = cv2.GaussianBlur(image, (3,3), 0) # 必要に応じて、ぼかしでノイズ対策\n",
    "        retval,image = cv2.threshold(image, threshhold, 255, cv2.THRESH_BINARY)\n",
    "        images[idx] = image[:,:,0] | image[:,:,1] | image[:,:,2]\n",
    " \n",
    "        # ディレクトリ名よりラベルを取得\n",
    "        label = os.path.split(os.path.dirname(file))[-1]\n",
    "        labels[idx] = int(label)\n",
    " \n",
    "    # scikit-learn の他のデータセットの形式に合わせる\n",
    "    flat_data = images.reshape((-1, IMAGE_SIZE * IMAGE_SIZE * COLOR_BYTE))\n",
    "    images = flat_data.view()\n",
    "    #return datasets.base.Bunch(data=images,\n",
    "    return utils.Bunch(data=images,\n",
    "                 target=labels.astype(np.int),\n",
    "                 target_names=np.arange(CATEGORY_NUM),\n",
    "                 images=images,\n",
    "                 DESCR=None)\n",
    " \n",
    "if __name__ == '__main__':\n",
    "    import matplotlib.pyplot as plt\n",
    "\n",
    "    d = load_handimage_bin(\"./data/m01\")\n",
    "    plt.figure(figsize=(8, 8))\n",
    "    # 画像を 2 行 3 列に表示\n",
    "    k = 0\n",
    "    for i in range(6):\n",
    "        for j in range(4):\n",
    "            img = d.images[d.target==i][j]\n",
    "            k += 1\n",
    "            plt.subplot(6,4, k)\n",
    "            plt.axis('off')\n",
    "            plt.imshow(img.reshape(40,40), cmap=\"gray\", interpolation='nearest')\n",
    "            plt.title(i)\n",
    "    plt.tight_layout()\n",
    "    plt.show()"
   ]
  },
  {
   "cell_type": "code",
   "execution_count": 19,
   "metadata": {},
   "outputs": [
    {
     "ename": "IndexError",
     "evalue": "index 0 is out of bounds for axis 0 with size 0",
     "output_type": "error",
     "traceback": [
      "\u001b[0;31m---------------------------------------------------------------------------\u001b[0m",
      "\u001b[0;31mIndexError\u001b[0m                                Traceback (most recent call last)",
      "\u001b[0;32m<ipython-input-19-4619aaa4daf1>\u001b[0m in \u001b[0;36m<module>\u001b[0;34m\u001b[0m\n\u001b[1;32m     61\u001b[0m     \u001b[0;32mfor\u001b[0m \u001b[0mi\u001b[0m \u001b[0;32min\u001b[0m \u001b[0mrange\u001b[0m\u001b[0;34m(\u001b[0m\u001b[0;36m6\u001b[0m\u001b[0;34m)\u001b[0m\u001b[0;34m:\u001b[0m\u001b[0;34m\u001b[0m\u001b[0;34m\u001b[0m\u001b[0m\n\u001b[1;32m     62\u001b[0m         \u001b[0;32mfor\u001b[0m \u001b[0mj\u001b[0m \u001b[0;32min\u001b[0m \u001b[0mrange\u001b[0m\u001b[0;34m(\u001b[0m\u001b[0;36m4\u001b[0m\u001b[0;34m)\u001b[0m\u001b[0;34m:\u001b[0m\u001b[0;34m\u001b[0m\u001b[0;34m\u001b[0m\u001b[0m\n\u001b[0;32m---> 63\u001b[0;31m             \u001b[0mimg\u001b[0m \u001b[0;34m=\u001b[0m \u001b[0md\u001b[0m\u001b[0;34m.\u001b[0m\u001b[0mimages\u001b[0m\u001b[0;34m[\u001b[0m\u001b[0md\u001b[0m\u001b[0;34m.\u001b[0m\u001b[0mtarget\u001b[0m\u001b[0;34m==\u001b[0m\u001b[0mi\u001b[0m\u001b[0;34m]\u001b[0m\u001b[0;34m[\u001b[0m\u001b[0mj\u001b[0m\u001b[0;34m]\u001b[0m\u001b[0;34m\u001b[0m\u001b[0;34m\u001b[0m\u001b[0m\n\u001b[0m\u001b[1;32m     64\u001b[0m             \u001b[0mk\u001b[0m \u001b[0;34m+=\u001b[0m \u001b[0;36m1\u001b[0m\u001b[0;34m\u001b[0m\u001b[0;34m\u001b[0m\u001b[0m\n\u001b[1;32m     65\u001b[0m             \u001b[0mplt\u001b[0m\u001b[0;34m.\u001b[0m\u001b[0msubplot\u001b[0m\u001b[0;34m(\u001b[0m\u001b[0;36m6\u001b[0m\u001b[0;34m,\u001b[0m\u001b[0;36m4\u001b[0m\u001b[0;34m,\u001b[0m \u001b[0mk\u001b[0m\u001b[0;34m)\u001b[0m\u001b[0;34m\u001b[0m\u001b[0;34m\u001b[0m\u001b[0m\n",
      "\u001b[0;31mIndexError\u001b[0m: index 0 is out of bounds for axis 0 with size 0"
     ]
    },
    {
     "data": {
      "text/plain": [
       "<Figure size 576x576 with 0 Axes>"
      ]
     },
     "metadata": {},
     "output_type": "display_data"
    }
   ],
   "source": [
    "import os\n",
    "import sys\n",
    "import glob\n",
    "import numpy as np\n",
    "from skimage import io\n",
    "#from sklearn import datasets\n",
    "from sklearn import utils\n",
    "import cv2\n",
    " \n",
    "IMAGE_SIZE = 40\n",
    "#COLOR_BYTE = 3\n",
    "COLOR_BYTE = 1\n",
    "CATEGORY_NUM = 6\n",
    "threshhold = 80\n",
    " \n",
    "## ラベル名(0～)を付けたディレクトリに分類されたイメージファイルを読み込む\n",
    "## 入力パスはラベル名の上位のディレクトリ\n",
    "def load_handimage_bin(path):\n",
    " \n",
    "    # ファイル一覧を取得\n",
    "    files = glob.glob(os.path.join(path, '*/*.png'))\n",
    " \n",
    "    # イメージとラベル領域を確保\n",
    "    #images = np.ndarray((len(files), IMAGE_SIZE, IMAGE_SIZE,\n",
    "    #                      COLOR_BYTE), dtype = np.uint8)\n",
    "    images = np.ndarray((len(files), IMAGE_SIZE, IMAGE_SIZE)\n",
    "                           , dtype = np.uint8)\n",
    " \n",
    "    labels = np.ndarray(len(files), dtype=np.int)\n",
    " \n",
    "    # イメージとラベルを読み込み\n",
    "    for idx, file in enumerate(files):\n",
    "        # イメージ読み込み\n",
    "        image = io.imread(file)\n",
    "        #image = cv2.GaussianBlur(image, (3,3), 0) # 必要に応じて、ぼかしでノイズ対策\n",
    "        retval,image = cv2.threshold(image, threshhold, 255, cv2.THRESH_BINARY)\n",
    "        images[idx] = image[:,:,0] | image[:,:,1] | image[:,:,2]\n",
    " \n",
    "        # ディレクトリ名よりラベルを取得\n",
    "        label = os.path.split(os.path.dirname(file))[-1]\n",
    "        labels[idx] = int(label)\n",
    " \n",
    "    # scikit-learn の他のデータセットの形式に合わせる\n",
    "    flat_data = images.reshape((-1, IMAGE_SIZE * IMAGE_SIZE * COLOR_BYTE))\n",
    "    images = flat_data.view()\n",
    "    #return datasets.base.Bunch(data=images,\n",
    "    return utils.Bunch(data=images,\n",
    "                 target=labels.astype(np.int),\n",
    "                 target_names=np.arange(CATEGORY_NUM),\n",
    "                 images=images,\n",
    "                 DESCR=None)\n",
    " \n",
    "if __name__ == '__main__':\n",
    "    import matplotlib.pyplot as plt\n",
    "\n",
    "    d = load_handimage_bin(\"./data/m01\")\n",
    "    plt.figure(figsize=(8, 8))\n",
    "    # 画像を 2 行 3 列に表示\n",
    "    k = 0\n",
    "    for i in range(6):\n",
    "        for j in range(4):\n",
    "            img = d.images[d.target==i][j]\n",
    "            k += 1\n",
    "            plt.subplot(6,4, k)\n",
    "            plt.axis('off')\n",
    "            plt.imshow(img.reshape(40,40), cmap=\"gray\", interpolation='nearest')\n",
    "            plt.title(i)\n",
    "    plt.tight_layout()\n",
    "    plt.show()"
   ]
  },
  {
   "cell_type": "code",
   "execution_count": null,
   "metadata": {},
   "outputs": [],
   "source": []
  },
  {
   "cell_type": "markdown",
   "metadata": {},
   "source": [
    "## load_handimage_bin.py"
   ]
  },
  {
   "cell_type": "code",
   "execution_count": null,
   "metadata": {},
   "outputs": [],
   "source": []
  },
  {
   "cell_type": "markdown",
   "metadata": {},
   "source": [
    "## WAVにかえるおー"
   ]
  },
  {
   "cell_type": "code",
   "execution_count": 20,
   "metadata": {},
   "outputs": [
    {
     "ename": "IndexError",
     "evalue": "tuple index out of range",
     "output_type": "error",
     "traceback": [
      "\u001b[0;31m---------------------------------------------------------------------------\u001b[0m",
      "\u001b[0;31mIndexError\u001b[0m                                Traceback (most recent call last)",
      "\u001b[0;32m<ipython-input-20-16f34390a032>\u001b[0m in \u001b[0;36m<module>\u001b[0;34m\u001b[0m\n\u001b[1;32m     81\u001b[0m             \u001b[0mplt\u001b[0m\u001b[0;34m.\u001b[0m\u001b[0maxis\u001b[0m\u001b[0;34m(\u001b[0m\u001b[0;34m'off'\u001b[0m\u001b[0;34m)\u001b[0m\u001b[0;34m\u001b[0m\u001b[0;34m\u001b[0m\u001b[0m\n\u001b[1;32m     82\u001b[0m             \u001b[0;31m#plt.imshow(img.reshape(128,320), cmap=\"gray\", interpolation='nearest')\u001b[0m\u001b[0;34m\u001b[0m\u001b[0;34m\u001b[0m\u001b[0;34m\u001b[0m\u001b[0m\n\u001b[0;32m---> 83\u001b[0;31m             \u001b[0mlibrosa\u001b[0m\u001b[0;34m.\u001b[0m\u001b[0mdisplay\u001b[0m\u001b[0;34m.\u001b[0m\u001b[0mspecshow\u001b[0m\u001b[0;34m(\u001b[0m\u001b[0mimg\u001b[0m\u001b[0;34m,\u001b[0m \u001b[0msr\u001b[0m\u001b[0;34m=\u001b[0m\u001b[0msr\u001b[0m\u001b[0;34m,\u001b[0m \u001b[0mx_axis\u001b[0m\u001b[0;34m=\u001b[0m\u001b[0;34m'time'\u001b[0m\u001b[0;34m,\u001b[0m \u001b[0my_axis\u001b[0m\u001b[0;34m=\u001b[0m\u001b[0;34m'mel'\u001b[0m\u001b[0;34m)\u001b[0m\u001b[0;34m\u001b[0m\u001b[0;34m\u001b[0m\u001b[0m\n\u001b[0m\u001b[1;32m     84\u001b[0m             \u001b[0mplt\u001b[0m\u001b[0;34m.\u001b[0m\u001b[0mtitle\u001b[0m\u001b[0;34m(\u001b[0m\u001b[0mi\u001b[0m\u001b[0;34m)\u001b[0m\u001b[0;34m\u001b[0m\u001b[0;34m\u001b[0m\u001b[0m\n\u001b[1;32m     85\u001b[0m     \u001b[0mplt\u001b[0m\u001b[0;34m.\u001b[0m\u001b[0mtight_layout\u001b[0m\u001b[0;34m(\u001b[0m\u001b[0;34m)\u001b[0m\u001b[0;34m\u001b[0m\u001b[0;34m\u001b[0m\u001b[0m\n",
      "\u001b[0;32m~/anaconda3/envs/py36/lib/python3.6/site-packages/librosa/display.py\u001b[0m in \u001b[0;36mspecshow\u001b[0;34m(data, x_coords, y_coords, x_axis, y_axis, sr, hop_length, fmin, fmax, tuning, bins_per_octave, key, Sa, mela, thaat, ax, **kwargs)\u001b[0m\n\u001b[1;32m    843\u001b[0m     \u001b[0;31m# Get the x and y coordinates\u001b[0m\u001b[0;34m\u001b[0m\u001b[0;34m\u001b[0m\u001b[0;34m\u001b[0m\u001b[0m\n\u001b[1;32m    844\u001b[0m     \u001b[0my_coords\u001b[0m \u001b[0;34m=\u001b[0m \u001b[0m__mesh_coords\u001b[0m\u001b[0;34m(\u001b[0m\u001b[0my_axis\u001b[0m\u001b[0;34m,\u001b[0m \u001b[0my_coords\u001b[0m\u001b[0;34m,\u001b[0m \u001b[0mdata\u001b[0m\u001b[0;34m.\u001b[0m\u001b[0mshape\u001b[0m\u001b[0;34m[\u001b[0m\u001b[0;36m0\u001b[0m\u001b[0;34m]\u001b[0m\u001b[0;34m,\u001b[0m \u001b[0;34m**\u001b[0m\u001b[0mall_params\u001b[0m\u001b[0;34m)\u001b[0m\u001b[0;34m\u001b[0m\u001b[0;34m\u001b[0m\u001b[0m\n\u001b[0;32m--> 845\u001b[0;31m     \u001b[0mx_coords\u001b[0m \u001b[0;34m=\u001b[0m \u001b[0m__mesh_coords\u001b[0m\u001b[0;34m(\u001b[0m\u001b[0mx_axis\u001b[0m\u001b[0;34m,\u001b[0m \u001b[0mx_coords\u001b[0m\u001b[0;34m,\u001b[0m \u001b[0mdata\u001b[0m\u001b[0;34m.\u001b[0m\u001b[0mshape\u001b[0m\u001b[0;34m[\u001b[0m\u001b[0;36m1\u001b[0m\u001b[0;34m]\u001b[0m\u001b[0;34m,\u001b[0m \u001b[0;34m**\u001b[0m\u001b[0mall_params\u001b[0m\u001b[0;34m)\u001b[0m\u001b[0;34m\u001b[0m\u001b[0;34m\u001b[0m\u001b[0m\n\u001b[0m\u001b[1;32m    846\u001b[0m \u001b[0;34m\u001b[0m\u001b[0m\n\u001b[1;32m    847\u001b[0m     \u001b[0maxes\u001b[0m \u001b[0;34m=\u001b[0m \u001b[0m__check_axes\u001b[0m\u001b[0;34m(\u001b[0m\u001b[0max\u001b[0m\u001b[0;34m)\u001b[0m\u001b[0;34m\u001b[0m\u001b[0;34m\u001b[0m\u001b[0m\n",
      "\u001b[0;31mIndexError\u001b[0m: tuple index out of range"
     ]
    },
    {
     "data": {
      "image/png": "[encoded data removed]",
      "text/plain": [
       "<Figure size 576x576 with 1 Axes>"
      ]
     },
     "metadata": {
      "needs_background": "light"
     },
     "output_type": "display_data"
    }
   ],
   "source": [
    "import os\n",
    "import sys\n",
    "import glob\n",
    "import numpy as np\n",
    "import librosa\n",
    "from skimage import io\n",
    "#from sklearn import datasets\n",
    "from sklearn import utils\n",
    "import cv2\n",
    "import librosa.display\n",
    "\n",
    "#COLOR_BYTE = 3\n",
    "COLOR_BYTE = 1\n",
    "CATEGORY_NUM = 6\n",
    "threshhold = 80\n",
    "\n",
    "\n",
    "\n",
    "#ラベル名(0～)を付けたディレクトリに分類されたイメージファイルを読み込む\n",
    "#入力パスはラベル名の上位のディレクトリ\n",
    "def load_wavimage_bin(path): \n",
    "#     # ファイル一覧を取得\n",
    "#     files = glob.glob(os.path.join(path, '*/*.wav'))\n",
    "#     # イメージとラベル領域を確保\n",
    "#     images = np.ndarray((len(files), 128, 701)\n",
    "#                            , dtype = np.uint8)\n",
    "#     labels = np.ndarray(len(files), dtype=np.int) \n",
    "#     # イメージとラベルを読み込み\n",
    "#     for idx, file in enumerate(files):\n",
    "#         # イメージ読み込み\n",
    "#         y,sr = librosa.load(path,sr=16000,offset=0.0,duration=7.0)\n",
    "#         image = librosa.feature.melspectrogram(y=y,\n",
    "#                                                 sr=sr,\n",
    "#                                                 n_mels=128,\n",
    "#                                                 n_fft=512,\n",
    "#                                                 win_length=480,\n",
    "#                                                 hop_length=160,)\n",
    "#        # ディレクトリ名よりラベルを取得\n",
    "#         label = os.path.split(os.path.dirname(file))[-1]\n",
    "#         labels[idx] = int(label)\n",
    "#      # scikit-learn の他のデータセットの形式に合わせる\n",
    "#     flat_data = images.reshape((-1, 128 * 701 * COLOR_BYTE))\n",
    "#     images = flat_data.view()\n",
    "#     #return datasets.base.Bunch(data=images,\n",
    "#     return utils.Bunch(data=images,\n",
    "#                  target=labels.astype(np.int),\n",
    "#                  target_names=np.arange(CATEGORY_NUM),\n",
    "#                  images=images,\n",
    "#                  DESCR=None)\n",
    "    files = glob.glob(os.path.join(path, '*/*.wav'))\n",
    "    images = np.ndarray((len(files), 128, 320), dtype = np.uint8)\n",
    "    labels = np.ndarray(len(files), dtype=np.int)\n",
    "    for idx, file in enumerate(files):\n",
    "        y,sr = librosa.load(file,offset=0.0,duration=7.0)\n",
    "        S = librosa.feature.melspectrogram(y=y,sr=sr,n_mels=128)\n",
    "        image = librosa.amplitude_to_db(S, ref=np.max)\n",
    "\n",
    "        # ディレクトリ名よりラベルを取得\n",
    "        label = os.path.split(os.path.dirname(file))[-1]\n",
    "        labels[idx] = int(label)\n",
    "        \n",
    "    flat_data = images.reshape((-1, 128 * 320 * COLOR_BYTE))\n",
    "    images = flat_data.view()\n",
    "    return utils.Bunch(data=images,\n",
    "                 target=labels.astype(np.int),\n",
    "                 target_names=np.arange(CATEGORY_NUM),\n",
    "                 images=images,\n",
    "                 DESCR=None)\n",
    "if __name__ == '__main__':\n",
    "    import matplotlib.pyplot as plt\n",
    "\n",
    "    d = load_wavimage_bin('./dataset/')\n",
    "    plt.figure(figsize=(8, 8))\n",
    "    # 画像を 2 行 3 列に表示\n",
    "    k = 0\n",
    "    for i in range(2):\n",
    "        for j in range(4):\n",
    "            img = d.images[d.target==i][j]\n",
    "            k += 1\n",
    "            plt.subplot(6,2, k)\n",
    "            plt.axis('off')\n",
    "            #plt.imshow(img.reshape(128,320), cmap=\"gray\", interpolation='nearest')\n",
    "            librosa.display.specshow(img, sr=sr, x_axis='time', y_axis='mel')\n",
    "            plt.title(i)\n",
    "    plt.tight_layout()\n",
    "    plt.show()"
   ]
  },
  {
   "cell_type": "code",
   "execution_count": 1,
   "metadata": {},
   "outputs": [],
   "source": [
    "import os\n",
    "import sys\n",
    "import glob\n",
    "import numpy as np\n",
    "import librosa\n",
    "from skimage import io\n",
    "#from sklearn import datasets\n",
    "from sklearn import utils\n",
    "import cv2\n",
    "\n",
    "#COLOR_BYTE = 3\n",
    "COLOR_BYTE = 1\n",
    "CATEGORY_NUM = 6\n",
    "threshhold = 80"
   ]
  },
  {
   "cell_type": "code",
   "execution_count": 21,
   "metadata": {},
   "outputs": [],
   "source": [
    "path = './dataset/'"
   ]
  },
  {
   "cell_type": "code",
   "execution_count": null,
   "metadata": {
    "scrolled": true
   },
   "outputs": [],
   "source": [
    "wav = './dataset/fujitou_normal/fujitou_normal_001.wav'"
   ]
  },
  {
   "cell_type": "code",
   "execution_count": 22,
   "metadata": {
    "scrolled": false
   },
   "outputs": [],
   "source": [
    "files = glob.glob(os.path.join(path, '*/*.wav'))"
   ]
  },
  {
   "cell_type": "code",
   "execution_count": null,
   "metadata": {},
   "outputs": [],
   "source": [
    "files"
   ]
  },
  {
   "cell_type": "code",
   "execution_count": 24,
   "metadata": {},
   "outputs": [],
   "source": [
    "images = np.ndarray((len(files), 128, 320), dtype = np.uint8)"
   ]
  },
  {
   "cell_type": "code",
   "execution_count": null,
   "metadata": {},
   "outputs": [],
   "source": [
    "images"
   ]
  },
  {
   "cell_type": "code",
   "execution_count": 25,
   "metadata": {},
   "outputs": [],
   "source": [
    "labels = np.ndarray(len(files), dtype=np.int) "
   ]
  },
  {
   "cell_type": "code",
   "execution_count": 26,
   "metadata": {
    "scrolled": true
   },
   "outputs": [
    {
     "data": {
      "text/plain": [
       "array([     140712028828336,      140712028828336,       94453367032128,\n",
       "             94453367032128,                    0,                    0,\n",
       "                         -1,                    0, -4679110115847045120,\n",
       "                          0,                    9,      140710703794624,\n",
       "             94453327062656,                   -1,                    0,\n",
       "                         -1,      140710696629808, -4671039021894336512,\n",
       "                         72,                    7,      140710703794624,\n",
       "             94453327062852,                    0,                    1,\n",
       "                          1,      140710696629808,  4541223111386726400,\n",
       "                        144,                    3,      140710703794624,\n",
       "             94453327062856,                    0,                    1,\n",
       "                          1,                    0,                    0,\n",
       "                        216,                    9,      140710703794624,\n",
       "             94453327062904,                    0,                    4,\n",
       "                          1,                   10,  4548644484161732608,\n",
       "                        288,                    9,      140710703794630,\n",
       "             94453327062932,                    6,                    4,\n",
       "                          1,                    0,  4532845773380911104,\n",
       "                        360,                    9,      140710703794630,\n",
       "             94453327063004,  4546474226076171815,                    6,\n",
       "                          3,                    0,  4548258405256527872,\n",
       "                        432,                   11,      140710703794670,\n",
       "             94453327063012,                   40,                    6,\n",
       "                          3, -4671806325254067904, -4669726917975343104,\n",
       "                        504,                   10,      140710703794670,\n",
       "             94453327063084,  4550899967906801465, -4678053987164616012,\n",
       "       -4679038847310252810,  4551574352784604281,  4539629021389914112,\n",
       "       -4673477730824575948,  4542901058065089416,  4549703147105749759,\n",
       "       -4683200453347050224, -4671796856877203186, -4673149608586578679,\n",
       "        4552238855258227850, -4679485531463001750, -4672574287372369650,\n",
       "        4551476787685449862,  4549527789937566284,  4528877437690846320,\n",
       "       -4670339704681135596,  4532045752670091798,  4554688353811279865,\n",
       "       -4682069717493603469, -4670029666570420583,  4544959101084428398,\n",
       "        4548098998878732152, -4672680353533944286,  4544060612550347860,\n",
       "        4539668235614813128, -4668723272354059900,  4544591274470752944,\n",
       "        4556551215462231868,  4529901900394123520, -4672260552731287930,\n",
       "       -4682037463223157503,  4538400680043341192,  4552245819524538615,\n",
       "       -4684701085854333224, -4669869098122432100,  4546843438682822168,\n",
       "        4538121295094524016, -4669077641642676367,  4539909378850722875,\n",
       "        4551035655910330933,  4537074811489931376,  4553226792898410376,\n",
       "       -4685596903878275984, -4670505745329409829, -4689424180194122100,\n",
       "       -4670133341811643809,  4548828610350624993,  4555952996049548874,\n",
       "       -4686941059202293592, -4682018607331652149, -4675921938163531143,\n",
       "       -4673377319855862941, -4682722435464947960,  4541184077626382350,\n",
       "        4538781352319556598,  4545131574580815518,  4546861158197637431,\n",
       "       -4675229043019094570, -4683137169630454160,  4540831459172944520,\n",
       "       -4681847732432353248,  4550676452988341330,  4541042711444249672,\n",
       "                       2945,      140712028826784,      140712028826784,\n",
       "                          0,                    0,  4523094655087929280,\n",
       "       -4679098974724094892,  4547271104121345602,  4546452582362632260,\n",
       "       -4670146676327780260, -4680855644794405732,  4549855231841869422,\n",
       "       -4687733488439759842,  4548681292720937806,  4544553644326145054,\n",
       "       -4674576329621753863, -4675214699991292471, -4677798944189442322,\n",
       "        4548083341695899218, -4678984700163118718, -4677752072242003829,\n",
       "        4553865031694375084,  4543777244532338089, -4670123140268623931,\n",
       "       -4694969328473097864,  4554288701210221460,  4534907776789889104,\n",
       "       -4666644525565737074, -4677042489937387544,  4556423495160499769,\n",
       "       -4674157870995261716, -4668335530843745951,  4555143331183619015,\n",
       "        4547650783665762748, -4681889465833983894,  4547313294709237050,\n",
       "       -4677232849310905753, -4700880535234970176, -4671831092490138290,\n",
       "       -4677381645473171424,  4550435157509447924, -4678540300066035890,\n",
       "        4550884400844963664,  4554818048876679571, -4668473195447030474,\n",
       "       -4670674988003005710,  4551011283962907354, -4673761793585896997,\n",
       "       -4675910963624081108,  4551508654256584030,  4544228051868739314,\n",
       "       -4683399407487916290,  4546031019779446685, -4677548384401537537,\n",
       "       -4678782206762796784,  4550163291485997751, -4684228492131093284,\n",
       "       -4673950122322387104,  4545400584461951206])"
      ]
     },
     "execution_count": 26,
     "metadata": {},
     "output_type": "execute_result"
    }
   ],
   "source": [
    "labels"
   ]
  },
  {
   "cell_type": "code",
   "execution_count": 28,
   "metadata": {},
   "outputs": [],
   "source": [
    "# for idx, file in enumerate(files):\n",
    "#     y,sr = librosa.load(file,sr=16000,offset=0.0,duration=7.0)\n",
    "\n",
    "#     image = librosa.feature.melspectrogram(y=y,\n",
    "#                                         sr=sr,\n",
    "#                                         n_mels=128,\n",
    "#                                         n_fft=512,\n",
    "#                                         win_length=480,\n",
    "#                                         hop_length=160,)\n",
    "\n",
    "#     # ディレクトリ名よりラベルを取得\n",
    "#     label = os.path.split(os.path.dirname(file))[-1]\n",
    "#     labels[idx] = int(label)\n",
    "for idx, file in enumerate(files):\n",
    "    y,sr = librosa.load(file,offset=0.0,duration=7.0)\n",
    "    S = librosa.feature.melspectrogram(y=y,sr=sr,n_mels=128)\n",
    "    image = librosa.amplitude_to_db(S, ref=np.max)\n",
    "\n",
    "    # ディレクトリ名よりラベルを取得\n",
    "    label = os.path.split(os.path.dirname(file))[-1]\n",
    "    labels[idx] = int(label)\n"
   ]
  },
  {
   "cell_type": "code",
   "execution_count": 29,
   "metadata": {
    "scrolled": true
   },
   "outputs": [
    {
     "data": {
      "text/plain": [
       "array([[-80., -80., -80., ..., -80., -80., -80.],\n",
       "       [-80., -80., -80., ..., -80., -80., -80.],\n",
       "       [-80., -80., -80., ..., -80., -80., -80.],\n",
       "       ...,\n",
       "       [-80., -80., -80., ..., -80., -80., -80.],\n",
       "       [-80., -80., -80., ..., -80., -80., -80.],\n",
       "       [-80., -80., -80., ..., -80., -80., -80.]], dtype=float32)"
      ]
     },
     "execution_count": 29,
     "metadata": {},
     "output_type": "execute_result"
    }
   ],
   "source": [
    "image"
   ]
  },
  {
   "cell_type": "code",
   "execution_count": 31,
   "metadata": {},
   "outputs": [
    {
     "data": {
      "text/plain": [
       "array([1, 1, 1, 1, 1, 1, 1, 1, 1, 1, 1, 1, 1, 1, 1, 1, 1, 1, 1, 1, 1, 1,\n",
       "       1, 1, 1, 1, 1, 1, 1, 1, 1, 1, 1, 1, 1, 1, 1, 1, 1, 1, 1, 1, 1, 1,\n",
       "       1, 1, 1, 1, 1, 1, 1, 1, 1, 1, 1, 1, 1, 1, 1, 1, 1, 1, 1, 1, 1, 1,\n",
       "       1, 1, 1, 1, 1, 1, 1, 1, 1, 1, 1, 1, 1, 1, 1, 1, 1, 1, 1, 1, 1, 1,\n",
       "       1, 1, 1, 1, 1, 1, 1, 1, 1, 1, 1, 1, 0, 0, 0, 0, 0, 0, 0, 0, 0, 0,\n",
       "       0, 0, 0, 0, 0, 0, 0, 0, 0, 0, 0, 0, 0, 0, 0, 0, 0, 0, 0, 0, 0, 0,\n",
       "       0, 0, 0, 0, 0, 0, 0, 0, 0, 0, 0, 0, 0, 0, 0, 0, 0, 0, 0, 0, 0, 0,\n",
       "       0, 0, 0, 0, 0, 0, 0, 0, 0, 0, 0, 0, 0, 0, 0, 0, 0, 0, 0, 0, 0, 0,\n",
       "       0, 0, 0, 0, 0, 0, 0, 0, 0, 0, 0, 0, 0, 0, 0, 0, 0, 0, 0, 0, 0, 0,\n",
       "       0, 0])"
      ]
     },
     "execution_count": 31,
     "metadata": {},
     "output_type": "execute_result"
    }
   ],
   "source": [
    "labels"
   ]
  },
  {
   "cell_type": "code",
   "execution_count": null,
   "metadata": {},
   "outputs": [],
   "source": [
    "flat_data = images.reshape((-1, 128 * 701 * COLOR_BYTE))\n",
    "images = flat_data.view()"
   ]
  },
  {
   "cell_type": "code",
   "execution_count": 12,
   "metadata": {},
   "outputs": [
    {
     "data": {
      "text/plain": [
       "array([[[0, 0, 0, ..., 0, 0, 0],\n",
       "        [0, 0, 0, ..., 0, 0, 0],\n",
       "        [0, 0, 0, ..., 0, 0, 0],\n",
       "        ...,\n",
       "        [0, 0, 0, ..., 0, 0, 0],\n",
       "        [0, 0, 0, ..., 0, 0, 0],\n",
       "        [0, 0, 0, ..., 0, 0, 0]],\n",
       "\n",
       "       [[0, 0, 0, ..., 0, 0, 0],\n",
       "        [0, 0, 0, ..., 0, 0, 0],\n",
       "        [0, 0, 0, ..., 0, 0, 0],\n",
       "        ...,\n",
       "        [0, 0, 0, ..., 0, 0, 0],\n",
       "        [0, 0, 0, ..., 0, 0, 0],\n",
       "        [0, 0, 0, ..., 0, 0, 0]],\n",
       "\n",
       "       [[0, 0, 0, ..., 0, 0, 0],\n",
       "        [0, 0, 0, ..., 0, 0, 0],\n",
       "        [0, 0, 0, ..., 0, 0, 0],\n",
       "        ...,\n",
       "        [0, 0, 0, ..., 0, 0, 0],\n",
       "        [0, 0, 0, ..., 0, 0, 0],\n",
       "        [0, 0, 0, ..., 0, 0, 0]],\n",
       "\n",
       "       ...,\n",
       "\n",
       "       [[0, 0, 0, ..., 0, 0, 0],\n",
       "        [0, 0, 0, ..., 0, 0, 0],\n",
       "        [0, 0, 0, ..., 0, 0, 0],\n",
       "        ...,\n",
       "        [0, 0, 0, ..., 0, 0, 0],\n",
       "        [0, 0, 0, ..., 0, 0, 0],\n",
       "        [0, 0, 0, ..., 0, 0, 0]],\n",
       "\n",
       "       [[0, 0, 0, ..., 0, 0, 0],\n",
       "        [0, 0, 0, ..., 0, 0, 0],\n",
       "        [0, 0, 0, ..., 0, 0, 0],\n",
       "        ...,\n",
       "        [0, 0, 0, ..., 0, 0, 0],\n",
       "        [0, 0, 0, ..., 0, 0, 0],\n",
       "        [0, 0, 0, ..., 0, 0, 0]],\n",
       "\n",
       "       [[0, 0, 0, ..., 0, 0, 0],\n",
       "        [0, 0, 0, ..., 0, 0, 0],\n",
       "        [0, 0, 0, ..., 0, 0, 0],\n",
       "        ...,\n",
       "        [0, 0, 0, ..., 0, 0, 0],\n",
       "        [0, 0, 0, ..., 0, 0, 0],\n",
       "        [0, 0, 0, ..., 0, 0, 0]]], dtype=uint8)"
      ]
     },
     "execution_count": 12,
     "metadata": {},
     "output_type": "execute_result"
    }
   ],
   "source": []
  },
  {
   "cell_type": "code",
   "execution_count": 10,
   "metadata": {},
   "outputs": [
    {
     "data": {
      "text/plain": [
       "array([1, 1, 1, 1, 1, 1, 1, 1, 1, 1, 1, 1, 1, 1, 1, 1, 1, 1, 1, 1, 1, 1,\n",
       "       1, 1, 1, 1, 1, 1, 1, 1, 1, 1, 1, 1, 1, 1, 1, 1, 1, 1, 1, 1, 1, 1,\n",
       "       1, 1, 1, 1, 1, 1, 1, 1, 1, 1, 1, 1, 1, 1, 1, 1, 1, 1, 1, 1, 1, 1,\n",
       "       1, 1, 1, 1, 1, 1, 1, 1, 1, 1, 1, 1, 1, 1, 1, 1, 1, 1, 1, 1, 1, 1,\n",
       "       1, 1, 1, 1, 1, 1, 1, 1, 1, 1, 1, 1, 0, 0, 0, 0, 0, 0, 0, 0, 0, 0,\n",
       "       0, 0, 0, 0, 0, 0, 0, 0, 0, 0, 0, 0, 0, 0, 0, 0, 0, 0, 0, 0, 0, 0,\n",
       "       0, 0, 0, 0, 0, 0, 0, 0, 0, 0, 0, 0, 0, 0, 0, 0, 0, 0, 0, 0, 0, 0,\n",
       "       0, 0, 0, 0, 0, 0, 0, 0, 0, 0, 0, 0, 0, 0, 0, 0, 0, 0, 0, 0, 0, 0,\n",
       "       0, 0, 0, 0, 0, 0, 0, 0, 0, 0, 0, 0, 0, 0, 0, 0, 0, 0, 0, 0, 0, 0,\n",
       "       0, 0])"
      ]
     },
     "execution_count": 10,
     "metadata": {},
     "output_type": "execute_result"
    }
   ],
   "source": [
    "labels"
   ]
  },
  {
   "cell_type": "code",
   "execution_count": null,
   "metadata": {},
   "outputs": [],
   "source": []
  },
  {
   "cell_type": "code",
   "execution_count": null,
   "metadata": {},
   "outputs": [],
   "source": [
    "y,sr = librosa.load(wav,sr=16000,offset=0.0,duration=7.0)\n",
    "\n",
    "image = librosa.feature.melspectrogram(y=y,\n",
    "                                        sr=sr,\n",
    "                                        n_mels=128,\n",
    "                                        n_fft=512,\n",
    "                                        win_length=480,\n",
    "                                        hop_length=160,)\n",
    "\n",
    "# ディレクトリ名よりラベルを取得\n",
    "label = os.path.split(os.path.dirname(file))[-1]\n",
    "labels[idx] = int(label)"
   ]
  },
  {
   "cell_type": "code",
   "execution_count": null,
   "metadata": {},
   "outputs": [],
   "source": []
  },
  {
   "cell_type": "code",
   "execution_count": null,
   "metadata": {},
   "outputs": [],
   "source": []
  },
  {
   "cell_type": "code",
   "execution_count": null,
   "metadata": {},
   "outputs": [],
   "source": []
  },
  {
   "cell_type": "code",
   "execution_count": null,
   "metadata": {},
   "outputs": [],
   "source": []
  },
  {
   "cell_type": "code",
   "execution_count": null,
   "metadata": {},
   "outputs": [],
   "source": []
  },
  {
   "cell_type": "code",
   "execution_count": null,
   "metadata": {},
   "outputs": [],
   "source": []
  },
  {
   "cell_type": "code",
   "execution_count": null,
   "metadata": {},
   "outputs": [],
   "source": []
  },
  {
   "cell_type": "code",
   "execution_count": null,
   "metadata": {},
   "outputs": [],
   "source": []
  },
  {
   "cell_type": "code",
   "execution_count": null,
   "metadata": {},
   "outputs": [],
   "source": []
  },
  {
   "cell_type": "code",
   "execution_count": null,
   "metadata": {},
   "outputs": [],
   "source": []
  },
  {
   "cell_type": "code",
   "execution_count": null,
   "metadata": {},
   "outputs": [],
   "source": []
  },
  {
   "cell_type": "code",
   "execution_count": null,
   "metadata": {},
   "outputs": [],
   "source": []
  },
  {
   "cell_type": "code",
   "execution_count": null,
   "metadata": {},
   "outputs": [],
   "source": []
  },
  {
   "cell_type": "code",
   "execution_count": null,
   "metadata": {},
   "outputs": [],
   "source": []
  },
  {
   "cell_type": "code",
   "execution_count": null,
   "metadata": {},
   "outputs": [],
   "source": [
    "# n_mels is number of Mel bands to generate\n",
    "n_mels=128\n",
    "# hop_length is number of samples between successive frames.\n",
    "hop_length=2068\n",
    "# n_fft is length of the FFT window\n",
    "n_fft=2048\n",
    "# Passing through arguments to the Mel filters\n",
    "S = librosa.feature.melspectrogram(y=y, sr=sr, n_mels=n_mels, hop_length=hop_length, n_fft=n_fft)\n",
    "\n",
    "log_S = librosa.power_to_db(log_S, np.max)\n",
    "print(np.max)\n",
    "\n",
    "\n",
    "plt.figure(figsize=(12, 4))\n",
    "librosa.display.specshow(data=S, sr=sr, hop_length=hop_length, x_axis='time', y_axis='mel')\n",
    "#librosa.display.specshow(data=log_S, sr=sr, hop_length=hop_length, x_axis='time', y_axis='mel')\n",
    "plt.title('Mel spectrogram')\n",
    "plt.tight_layout()"
   ]
  },
  {
   "cell_type": "code",
   "execution_count": null,
   "metadata": {},
   "outputs": [],
   "source": [
    "# Load\n",
    "y, sr = librosa.load(audio_path,sr=16000)\n"
   ]
  },
  {
   "cell_type": "code",
   "execution_count": null,
   "metadata": {},
   "outputs": [],
   "source": [
    "import librosa\n",
    "import glob\n",
    "import numpy as np"
   ]
  },
  {
   "cell_type": "code",
   "execution_count": null,
   "metadata": {},
   "outputs": [],
   "source": [
    "def extract_mel(wav, sr, n_mels=64): #Output -> (timeframe, mel_dim)\n",
    "    audio, _ = librosa.load(wav, sr=sr)\n",
    "    mel = librosa.feature.melspectrogram(y=audio, sr=sr, n_mels=n_mels).T\n",
    "    return mel"
   ]
  },
  {
   "cell_type": "code",
   "execution_count": null,
   "metadata": {},
   "outputs": [],
   "source": [
    "def data_list(path, sr, n_mels=64):\n",
    "    wav_list = glob.glob(os.path.join(path, '*/*/*'))\n",
    "    size = len(wav_list)\n",
    "    data = np.ones((1, n_mels))\n",
    "    count= 0\n",
    "    for wavname in wav_list:\n",
    "        component = extract_mel(wavname, sr=sr, n_mels=64)\n",
    "        data = np.concatenate([data, component], axis=0)\n",
    "        count += 1\n",
    "        sys.stdout.write(\"\\r%s\" % \"現在\"+str(np.around((count/len(wav_list))*100 , 2))+\"%完了\")\n",
    "        sys.stdout.flush()\n",
    "    return data[1:], size"
   ]
  },
  {
   "cell_type": "code",
   "execution_count": null,
   "metadata": {},
   "outputs": [],
   "source": []
  },
  {
   "cell_type": "code",
   "execution_count": null,
   "metadata": {
    "scrolled": true
   },
   "outputs": [],
   "source": [
    "from pydub import AudioSegment\n"
   ]
  }
 ],
 "metadata": {
  "kernelspec": {
   "display_name": "Python 3",
   "language": "python",
   "name": "python3"
  },
  "language_info": {
   "codemirror_mode": {
    "name": "ipython",
    "version": 3
   },
   "file_extension": ".py",
   "mimetype": "text/x-python",
   "name": "python",
   "nbconvert_exporter": "python",
   "pygments_lexer": "ipython3",
   "version": "3.6.10"
  }
 },
 "nbformat": 4,
 "nbformat_minor": 4
}
