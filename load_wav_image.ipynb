{
 "cells": [
  {
   "cell_type": "markdown",
   "metadata": {},
   "source": [
    "import os\n",
    "import sys\n",
    "import glob\n",
    "import numpy as np\n",
    "from skimage import io\n",
    "#from sklearn import datasets\n",
    "from sklearn import utils\n",
    "import cv2\n",
    " \n",
    "IMAGE_SIZE = 40\n",
    "#COLOR_BYTE = 3\n",
    "COLOR_BYTE = 1\n",
    "CATEGORY_NUM = 6\n",
    "threshhold = 80\n",
    " \n",
    "## ラベル名(0～)を付けたディレクトリに分類されたイメージファイルを読み込む\n",
    "## 入力パスはラベル名の上位のディレクトリ\n",
    "def load_handimage_bin(path):\n",
    " \n",
    "    # ファイル一覧を取得\n",
    "    files = glob.glob(os.path.join(path, '*/*.png'))\n",
    " \n",
    "    # イメージとラベル領域を確保\n",
    "    #images = np.ndarray((len(files), IMAGE_SIZE, IMAGE_SIZE,\n",
    "    #                      COLOR_BYTE), dtype = np.uint8)\n",
    "    images = np.ndarray((len(files), IMAGE_SIZE, IMAGE_SIZE)\n",
    "                           , dtype = np.uint8)\n",
    " \n",
    "    labels = np.ndarray(len(files), dtype=np.int)\n",
    " \n",
    "    # イメージとラベルを読み込み\n",
    "    for idx, file in enumerate(files):\n",
    "        # イメージ読み込み\n",
    "        image = io.imread(file)\n",
    "        #image = cv2.GaussianBlur(image, (3,3), 0) # 必要に応じて、ぼかしでノイズ対策\n",
    "        retval,image = cv2.threshold(image, threshhold, 255, cv2.THRESH_BINARY)\n",
    "        images[idx] = image[:,:,0] | image[:,:,1] | image[:,:,2]\n",
    " \n",
    "        # ディレクトリ名よりラベルを取得\n",
    "        label = os.path.split(os.path.dirname(file))[-1]\n",
    "        labels[idx] = int(label)\n",
    " \n",
    "    # scikit-learn の他のデータセットの形式に合わせる\n",
    "    flat_data = images.reshape((-1, IMAGE_SIZE * IMAGE_SIZE * COLOR_BYTE))\n",
    "    images = flat_data.view()\n",
    "    #return datasets.base.Bunch(data=images,\n",
    "    return utils.Bunch(data=images,\n",
    "                 target=labels.astype(np.int),\n",
    "                 target_names=np.arange(CATEGORY_NUM),\n",
    "                 images=images,\n",
    "                 DESCR=None)\n",
    " \n",
    "if __name__ == '__main__':\n",
    "    import matplotlib.pyplot as plt\n",
    "\n",
    "    d = load_handimage_bin(\"./data/m01\")\n",
    "    plt.figure(figsize=(8, 8))\n",
    "    # 画像を 2 行 3 列に表示\n",
    "    k = 0\n",
    "    for i in range(6):\n",
    "        for j in range(4):\n",
    "            img = d.images[d.target==i][j]\n",
    "            k += 1\n",
    "            plt.subplot(6,4, k)\n",
    "            plt.axis('off')\n",
    "            plt.imshow(img.reshape(40,40), cmap=\"gray\", interpolation='nearest')\n",
    "            plt.title(i)\n",
    "    plt.tight_layout()\n",
    "    plt.show()"
   ]
  },
  {
   "cell_type": "code",
   "execution_count": 12,
   "metadata": {},
   "outputs": [
    {
     "data": {
      "text/plain": [
       "<Figure size 576x576 with 0 Axes>"
      ]
     },
     "metadata": {},
     "output_type": "display_data"
    }
   ],
   "source": [
    "import os\n",
    "import sys\n",
    "import glob\n",
    "import numpy as np\n",
    "import librosa\n",
    "from skimage import io\n",
    "#from sklearn import datasets\n",
    "from sklearn import utils\n",
    "import cv2\n",
    " \n",
    "IMAGE_SIZE = 40\n",
    "#COLOR_BYTE = 3\n",
    "COLOR_BYTE = 1\n",
    "CATEGORY_NUM = 6\n",
    "threshhold = 80\n",
    " \n",
    "## ラベル名(0～)を付けたディレクトリに分類されたイメージファイルを読み込む\n",
    "## 入力パスはラベル名の上位のディレクトリ\n",
    "def load_wavimage_bin(path):\n",
    " \n",
    "    # ファイル一覧を取得\n",
    "    files = glob.glob(os.path.join(path, '*/*.'))\n",
    " \n",
    "    # イメージとラベル領域を確保\n",
    "    #images = np.ndarray((len(files), IMAGE_SIZE, IMAGE_SIZE,\n",
    "    #                      COLOR_BYTE), dtype = np.uint8)\n",
    "    images = np.ndarray((len(files))\n",
    "                           , dtype = np.uint8)\n",
    " \n",
    "    labels = np.ndarray(len(files), dtype=np.int)\n",
    " \n",
    "    # イメージとラベルを読み込み\n",
    "    for idx, file in enumerate(files):\n",
    "        # イメージ読み込み\n",
    "        r,sr = librosa.load(file,sr=16000)\n",
    "        #image = cv2.GaussianBlur(image, (3,3), 0) # 必要に応じて、ぼかしでノイズ対策\n",
    "        retval,image = cv2.threshold(image, threshhold, 255, cv2.THRESH_BINARY)\n",
    "        images[idx] = image[:,:,0] | image[:,:,1] | image[:,:,2]\n",
    " \n",
    "        # ディレクトリ名よりラベルを取得\n",
    "        label = os.path.split(os.path.dirname(file))[-1]\n",
    "        labels[idx] = int(label)\n",
    " \n",
    "    # scikit-learn の他のデータセットの形式に合わせる\n",
    "    flat_data = images.reshape((-1, IMAGE_SIZE * IMAGE_SIZE * COLOR_BYTE))\n",
    "    images = flat_data.view()\n",
    "    #return datasets.base.Bunch(data=images,\n",
    "    return utils.Bunch(data=images,\n",
    "                 target=labels.astype(np.int),\n",
    "                 target_names=np.arange(CATEGORY_NUM),\n",
    "                 images=images,\n",
    "                 DESCR=None)\n",
    " \n",
    "if __name__ == '__main__':\n",
    "    import matplotlib.pyplot as plt\n",
    "\n",
    "    d = load_wavimage_bin(\"./dataset/fujitou_normal_001.wav\")\n",
    "    plt.figure(figsize=(8, 8))\n",
    "#     # 画像を 2 行 3 列に表示\n",
    "#     k = 0\n",
    "#     for i in range(6):\n",
    "#         for j in range(4):\n",
    "#             img = d.images[d.target==i][j]\n",
    "#             k += 1\n",
    "#             plt.subplot(6,4, k)\n",
    "#             plt.axis('off')\n",
    "#             plt.imshow(img.reshape(40,40), cmap=\"gray\", interpolation='nearest')\n",
    "#             plt.title(i)\n",
    "#     plt.tight_layout()\n",
    "#     plt.show()"
   ]
  },
  {
   "cell_type": "code",
   "execution_count": 38,
   "metadata": {},
   "outputs": [
    {
     "data": {
      "text/plain": [
       "<matplotlib.collections.PolyCollection at 0x7f99e793add8>"
      ]
     },
     "execution_count": 38,
     "metadata": {},
     "output_type": "execute_result"
    },
    {
     "data": {
      "image/png": "[encoded data removed]",
      "text/plain": [
       "<Figure size 432x288 with 1 Axes>"
      ]
     },
     "metadata": {
      "needs_background": "light"
     },
     "output_type": "display_data"
    }
   ],
   "source": [
    "import librosa.display\n",
    "# Load a flac file from 0(s) to 60(s) and resample to 4.41 KHz\n",
    "filename = './dataset/fujitou_normal/fujitou_normal_001.wav'\n",
    "# offset = スタート地点   duration = 終了地点\n",
    "y, sr = librosa.load(filename, sr=4410, offset=0.0, duration=10.0)\n",
    "librosa.display.waveplot(y=y, sr=sr)"
   ]
  },
  {
   "cell_type": "code",
   "execution_count": 39,
   "metadata": {},
   "outputs": [
    {
     "name": "stdout",
     "output_type": "stream",
     "text": [
      "[[2.3165120e-07 1.7297962e-05 6.3522214e-07 ... 1.0141994e-07\n",
      "  3.0373087e-08 6.8732120e-08]\n",
      " [6.1876585e-06 2.2757870e-04 1.9087911e-05 ... 2.5348997e-06\n",
      "  1.3608637e-06 6.1251271e-06]\n",
      " [2.4223812e-06 2.2384804e-03 1.1566563e-04 ... 7.4507579e-06\n",
      "  2.1981118e-06 4.7277986e-06]\n",
      " ...\n",
      " [4.3505907e-10 1.5222217e-03 6.2194940e-06 ... 1.9634339e-09\n",
      "  1.6398184e-09 6.0686384e-10]\n",
      " [5.0888421e-10 9.3305898e-05 1.6186166e-06 ... 2.7376035e-10\n",
      "  2.7939320e-10 1.3269659e-10]\n",
      " [2.4606714e-10 2.8400179e-06 8.2730438e-08 ... 1.3808093e-11\n",
      "  1.4053374e-11 9.4753641e-12]]\n",
      "[[-80.       -64.40101  -78.7517   ... -80.       -80.       -80.      ]\n",
      " [-68.86569  -53.20964  -63.973373 ... -72.74135  -75.44281  -68.909805]\n",
      " [-72.93853  -43.281425 -56.14892  ... -68.05895  -73.360466 -70.03437 ]\n",
      " ...\n",
      " [-80.       -44.956177 -68.84341  ... -80.       -80.       -80.      ]\n",
      " [-80.       -57.081863 -74.689514 ... -80.       -80.       -80.      ]\n",
      " [-80.       -72.24775  -80.       ... -80.       -80.       -80.      ]]\n",
      "(128, 22)\n"
     ]
    },
    {
     "data": {
      "image/png": "[encoded data removed]",
      "text/plain": [
       "<Figure size 864x288 with 2 Axes>"
      ]
     },
     "metadata": {
      "needs_background": "light"
     },
     "output_type": "display_data"
    }
   ],
   "source": [
    "# n_mels is number of Mel bands to generate\n",
    "n_mels=128\n",
    "# hop_length is number of samples between successive frames.\n",
    "hop_length=2068\n",
    "# n_fft is length of the FFT window\n",
    "n_fft=2048\n",
    "# Passing through arguments to the Mel filters\n",
    "S = librosa.feature.melspectrogram(y=y, sr=sr, n_mels=n_mels, hop_length=hop_length, n_fft=n_fft)\n",
    "\n",
    "log_S = librosa.power_to_db(S, np.max)\n",
    "print(S)\n",
    "print(log_S)\n",
    "print(log_S.shape)\n",
    "\n",
    "plt.figure(figsize=(12, 4))\n",
    "librosa.display.specshow(data=S, sr=sr, hop_length=hop_length, x_axis='time', y_axis='mel')\n",
    "librosa.display.specshow(data=log_S, sr=sr, hop_length=hop_length, x_axis='time', y_axis='mel')\n",
    "plt.colorbar(format='%+2.0f dB')\n",
    "plt.title('Mel spectrogram')\n",
    "plt.tight_layout()"
   ]
  },
  {
   "cell_type": "code",
   "execution_count": 1,
   "metadata": {},
   "outputs": [
    {
     "ename": "NameError",
     "evalue": "name 'librosa' is not defined",
     "output_type": "error",
     "traceback": [
      "\u001b[0;31m---------------------------------------------------------------------------\u001b[0m",
      "\u001b[0;31mNameError\u001b[0m                                 Traceback (most recent call last)",
      "\u001b[0;32m<ipython-input-1-2fe2294c2b65>\u001b[0m in \u001b[0;36m<module>\u001b[0;34m\u001b[0m\n\u001b[1;32m      1\u001b[0m \u001b[0;31m# Load\u001b[0m\u001b[0;34m\u001b[0m\u001b[0;34m\u001b[0m\u001b[0;34m\u001b[0m\u001b[0m\n\u001b[0;32m----> 2\u001b[0;31m \u001b[0my\u001b[0m\u001b[0;34m,\u001b[0m \u001b[0msr\u001b[0m \u001b[0;34m=\u001b[0m \u001b[0mlibrosa\u001b[0m\u001b[0;34m.\u001b[0m\u001b[0mload\u001b[0m\u001b[0;34m(\u001b[0m\u001b[0maudio_path\u001b[0m\u001b[0;34m,\u001b[0m\u001b[0msr\u001b[0m\u001b[0;34m=\u001b[0m\u001b[0;36m16000\u001b[0m\u001b[0;34m)\u001b[0m\u001b[0;34m\u001b[0m\u001b[0;34m\u001b[0m\u001b[0m\n\u001b[0m",
      "\u001b[0;31mNameError\u001b[0m: name 'librosa' is not defined"
     ]
    }
   ],
   "source": [
    "# Load\n",
    "y, sr = librosa.load(audio_path,sr=16000)\n"
   ]
  },
  {
   "cell_type": "code",
   "execution_count": 19,
   "metadata": {},
   "outputs": [],
   "source": [
    "import librosa\n",
    "import glob\n",
    "import numpy as np"
   ]
  },
  {
   "cell_type": "code",
   "execution_count": 20,
   "metadata": {},
   "outputs": [],
   "source": [
    "def extract_mel(wav, sr, n_mels=64): #Output -> (timeframe, mel_dim)\n",
    "    audio, _ = librosa.load(wav, sr=sr)\n",
    "    mel = librosa.feature.melspectrogram(y=audio, sr=sr, n_mels=n_mels).T\n",
    "    return mel"
   ]
  },
  {
   "cell_type": "code",
   "execution_count": 30,
   "metadata": {},
   "outputs": [],
   "source": [
    "def data_list(path, sr, n_mels=64):\n",
    "    wav_list = glob.glob(os.path.join(path, '*/*/*'))\n",
    "    size = len(wav_list)\n",
    "    data = np.ones((1, n_mels))\n",
    "    count= 0\n",
    "    for wavname in wav_list:\n",
    "        component = extract_mel(wavname, sr=sr, n_mels=64)\n",
    "        data = np.concatenate([data, component], axis=0)\n",
    "        count += 1\n",
    "        sys.stdout.write(\"\\r%s\" % \"現在\"+str(np.around((count/len(wav_list))*100 , 2))+\"%完了\")\n",
    "        sys.stdout.flush()\n",
    "    return data[1:], size"
   ]
  },
  {
   "cell_type": "code",
   "execution_count": 35,
   "metadata": {},
   "outputs": [
    {
     "ename": "ModuleNotFoundError",
     "evalue": "No module named 'pydub'",
     "output_type": "error",
     "traceback": [
      "\u001b[0;31m---------------------------------------------------------------------------\u001b[0m",
      "\u001b[0;31mModuleNotFoundError\u001b[0m                       Traceback (most recent call last)",
      "\u001b[0;32m<ipython-input-35-4f2f1c796d96>\u001b[0m in \u001b[0;36m<module>\u001b[0;34m\u001b[0m\n\u001b[0;32m----> 1\u001b[0;31m \u001b[0;32mfrom\u001b[0m \u001b[0mpydub\u001b[0m \u001b[0;32mimport\u001b[0m \u001b[0mAudioSegment\u001b[0m\u001b[0;34m\u001b[0m\u001b[0;34m\u001b[0m\u001b[0m\n\u001b[0m",
      "\u001b[0;31mModuleNotFoundError\u001b[0m: No module named 'pydub'"
     ]
    }
   ],
   "source": [
    "from pydub import AudioSegment\n"
   ]
  },
  {
   "cell_type": "code",
   "execution_count": null,
   "metadata": {},
   "outputs": [],
   "source": []
  }
 ],
 "metadata": {
  "kernelspec": {
   "display_name": "Python 3",
   "language": "python",
   "name": "python3"
  },
  "language_info": {
   "codemirror_mode": {
    "name": "ipython",
    "version": 3
   },
   "file_extension": ".py",
   "mimetype": "text/x-python",
   "name": "python",
   "nbconvert_exporter": "python",
   "pygments_lexer": "ipython3",
   "version": "3.6.10"
  }
 },
 "nbformat": 4,
 "nbformat_minor": 4
}
