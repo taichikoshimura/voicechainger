{
 "cells": [
  {
   "cell_type": "markdown",
   "metadata": {},
   "source": [
    "import os\n",
    "import sys\n",
    "import glob\n",
    "import numpy as np\n",
    "from skimage import io\n",
    "#from sklearn import datasets\n",
    "from sklearn import utils\n",
    "import cv2\n",
    " \n",
    "IMAGE_SIZE = 40\n",
    "#COLOR_BYTE = 3\n",
    "COLOR_BYTE = 1\n",
    "CATEGORY_NUM = 6\n",
    "threshhold = 80\n",
    " \n",
    "## ラベル名(0～)を付けたディレクトリに分類されたイメージファイルを読み込む\n",
    "## 入力パスはラベル名の上位のディレクトリ\n",
    "def load_handimage_bin(path):\n",
    " \n",
    "    # ファイル一覧を取得\n",
    "    files = glob.glob(os.path.join(path, '*/*.png'))\n",
    " \n",
    "    # イメージとラベル領域を確保\n",
    "    #images = np.ndarray((len(files), IMAGE_SIZE, IMAGE_SIZE,\n",
    "    #                      COLOR_BYTE), dtype = np.uint8)\n",
    "    images = np.ndarray((len(files), IMAGE_SIZE, IMAGE_SIZE)\n",
    "                           , dtype = np.uint8)\n",
    " \n",
    "    labels = np.ndarray(len(files), dtype=np.int)\n",
    " \n",
    "    # イメージとラベルを読み込み\n",
    "    for idx, file in enumerate(files):\n",
    "        # イメージ読み込み\n",
    "        image = io.imread(file)\n",
    "        #image = cv2.GaussianBlur(image, (3,3), 0) # 必要に応じて、ぼかしでノイズ対策\n",
    "        retval,image = cv2.threshold(image, threshhold, 255, cv2.THRESH_BINARY)\n",
    "        images[idx] = image[:,:,0] | image[:,:,1] | image[:,:,2]\n",
    " \n",
    "        # ディレクトリ名よりラベルを取得\n",
    "        label = os.path.split(os.path.dirname(file))[-1]\n",
    "        labels[idx] = int(label)\n",
    " \n",
    "    # scikit-learn の他のデータセットの形式に合わせる\n",
    "    flat_data = images.reshape((-1, IMAGE_SIZE * IMAGE_SIZE * COLOR_BYTE))\n",
    "    images = flat_data.view()\n",
    "    #return datasets.base.Bunch(data=images,\n",
    "    return utils.Bunch(data=images,\n",
    "                 target=labels.astype(np.int),\n",
    "                 target_names=np.arange(CATEGORY_NUM),\n",
    "                 images=images,\n",
    "                 DESCR=None)\n",
    " \n",
    "if __name__ == '__main__':\n",
    "    import matplotlib.pyplot as plt\n",
    "\n",
    "    d = load_handimage_bin(\"./data/m01\")\n",
    "    plt.figure(figsize=(8, 8))\n",
    "    # 画像を 2 行 3 列に表示\n",
    "    k = 0\n",
    "    for i in range(6):\n",
    "        for j in range(4):\n",
    "            img = d.images[d.target==i][j]\n",
    "            k += 1\n",
    "            plt.subplot(6,4, k)\n",
    "            plt.axis('off')\n",
    "            plt.imshow(img.reshape(40,40), cmap=\"gray\", interpolation='nearest')\n",
    "            plt.title(i)\n",
    "    plt.tight_layout()\n",
    "    plt.show()"
   ]
  },
  {
   "cell_type": "code",
   "execution_count": null,
   "metadata": {},
   "outputs": [],
   "source": [
    "import os\n",
    "import sys\n",
    "import glob\n",
    "import numpy as np\n",
    "import librosa\n",
    "from skimage import io\n",
    "#from sklearn import datasets\n",
    "from sklearn import utils\n",
    "import cv2\n",
    " \n",
    "IMAGE_SIZE = 40\n",
    "#COLOR_BYTE = 3\n",
    "COLOR_BYTE = 1\n",
    "CATEGORY_NUM = 6\n",
    "threshhold = 80\n",
    " \n",
    "## ラベル名(0～)を付けたディレクトリに分類されたイメージファイルを読み込む\n",
    "## 入力パスはラベル名の上位のディレクトリ\n",
    "def load_wavimage_bin(path):\n",
    " \n",
    "    # ファイル一覧を取得\n",
    "    files = glob.glob(os.path.join(path, '*/*.'))\n",
    " \n",
    "    # イメージとラベル領域を確保\n",
    "    #images = np.ndarray((len(files), IMAGE_SIZE, IMAGE_SIZE,\n",
    "    #                      COLOR_BYTE), dtype = np.uint8)\n",
    "    images = np.ndarray((len(files))\n",
    "                           , dtype = np.uint8)\n",
    " \n",
    "    labels = np.ndarray(len(files), dtype=np.int)\n",
    " \n",
    "    # イメージとラベルを読み込み\n",
    "    for idx, file in enumerate(files):\n",
    "        # イメージ読み込み\n",
    "        r,sr = librosa.load(file,sr=16000)\n",
    "        #image = cv2.GaussianBlur(image, (3,3), 0) # 必要に応じて、ぼかしでノイズ対策\n",
    "        retval,image = cv2.threshold(image, threshhold, 255, cv2.THRESH_BINARY)\n",
    "        images[idx] = image[:,:,0] | image[:,:,1] | image[:,:,2]\n",
    " \n",
    "        # ディレクトリ名よりラベルを取得\n",
    "        label = os.path.split(os.path.dirname(file))[-1]\n",
    "        labels[idx] = int(label)\n",
    " \n",
    "    # scikit-learn の他のデータセットの形式に合わせる\n",
    "    flat_data = images.reshape((-1, IMAGE_SIZE * IMAGE_SIZE * COLOR_BYTE))\n",
    "    images = flat_data.view()\n",
    "    #return datasets.base.Bunch(data=images,\n",
    "    return utils.Bunch(data=images,\n",
    "                 target=labels.astype(np.int),\n",
    "                 target_names=np.arange(CATEGORY_NUM),\n",
    "                 images=images,\n",
    "                 DESCR=None)\n",
    " \n",
    "if __name__ == '__main__':\n",
    "    import matplotlib.pyplot as plt\n",
    "\n",
    "    d = load_wavimage_bin(\"./dataset/fujitou_normal_001.wav\")\n",
    "    plt.figure(figsize=(8, 8))\n",
    "#     # 画像を 2 行 3 列に表示\n",
    "#     k = 0\n",
    "#     for i in range(6):\n",
    "#         for j in range(4):\n",
    "#             img = d.images[d.target==i][j]\n",
    "#             k += 1\n",
    "#             plt.subplot(6,4, k)\n",
    "#             plt.axis('off')\n",
    "#             plt.imshow(img.reshape(40,40), cmap=\"gray\", interpolation='nearest')\n",
    "#             plt.title(i)\n",
    "#     plt.tight_layout()\n",
    "#     plt.show()"
   ]
  },
  {
   "cell_type": "code",
   "execution_count": null,
   "metadata": {},
   "outputs": [],
   "source": []
  },
  {
   "cell_type": "markdown",
   "metadata": {},
   "source": [
    "## load_handimage_bin.py"
   ]
  },
  {
   "cell_type": "code",
   "execution_count": null,
   "metadata": {},
   "outputs": [],
   "source": []
  },
  {
   "cell_type": "markdown",
   "metadata": {},
   "source": [
    "## WAVにかえるおー"
   ]
  },
  {
   "cell_type": "code",
   "execution_count": 9,
   "metadata": {},
   "outputs": [
    {
     "ename": "IndexError",
     "evalue": "index 0 is out of bounds for axis 0 with size 0",
     "output_type": "error",
     "traceback": [
      "\u001b[0;31m---------------------------------------------------------------------------\u001b[0m",
      "\u001b[0;31mIndexError\u001b[0m                                Traceback (most recent call last)",
      "\u001b[0;32m<ipython-input-9-1696c29cc8d3>\u001b[0m in \u001b[0;36m<module>\u001b[0;34m\u001b[0m\n\u001b[1;32m     81\u001b[0m     \u001b[0;32mfor\u001b[0m \u001b[0mi\u001b[0m \u001b[0;32min\u001b[0m \u001b[0mrange\u001b[0m\u001b[0;34m(\u001b[0m\u001b[0;36m6\u001b[0m\u001b[0;34m)\u001b[0m\u001b[0;34m:\u001b[0m\u001b[0;34m\u001b[0m\u001b[0;34m\u001b[0m\u001b[0m\n\u001b[1;32m     82\u001b[0m         \u001b[0;32mfor\u001b[0m \u001b[0mj\u001b[0m \u001b[0;32min\u001b[0m \u001b[0mrange\u001b[0m\u001b[0;34m(\u001b[0m\u001b[0;36m4\u001b[0m\u001b[0;34m)\u001b[0m\u001b[0;34m:\u001b[0m\u001b[0;34m\u001b[0m\u001b[0;34m\u001b[0m\u001b[0m\n\u001b[0;32m---> 83\u001b[0;31m             \u001b[0mimg\u001b[0m \u001b[0;34m=\u001b[0m \u001b[0md\u001b[0m\u001b[0;34m.\u001b[0m\u001b[0mimages\u001b[0m\u001b[0;34m[\u001b[0m\u001b[0md\u001b[0m\u001b[0;34m.\u001b[0m\u001b[0mtarget\u001b[0m\u001b[0;34m==\u001b[0m\u001b[0mi\u001b[0m\u001b[0;34m]\u001b[0m\u001b[0;34m[\u001b[0m\u001b[0mj\u001b[0m\u001b[0;34m]\u001b[0m\u001b[0;34m\u001b[0m\u001b[0;34m\u001b[0m\u001b[0m\n\u001b[0m\u001b[1;32m     84\u001b[0m             \u001b[0mk\u001b[0m \u001b[0;34m+=\u001b[0m \u001b[0;36m1\u001b[0m\u001b[0;34m\u001b[0m\u001b[0;34m\u001b[0m\u001b[0m\n\u001b[1;32m     85\u001b[0m             \u001b[0mplt\u001b[0m\u001b[0;34m.\u001b[0m\u001b[0msubplot\u001b[0m\u001b[0;34m(\u001b[0m\u001b[0;36m6\u001b[0m\u001b[0;34m,\u001b[0m\u001b[0;36m4\u001b[0m\u001b[0;34m,\u001b[0m \u001b[0mk\u001b[0m\u001b[0;34m)\u001b[0m\u001b[0;34m\u001b[0m\u001b[0;34m\u001b[0m\u001b[0m\n",
      "\u001b[0;31mIndexError\u001b[0m: index 0 is out of bounds for axis 0 with size 0"
     ]
    },
    {
     "data": {
      "image/png": "[encoded data removed]",
      "text/plain": [
       "<Figure size 576x576 with 8 Axes>"
      ]
     },
     "metadata": {
      "needs_background": "light"
     },
     "output_type": "display_data"
    }
   ],
   "source": [
    "import os\n",
    "import sys\n",
    "import glob\n",
    "import numpy as np\n",
    "import librosa\n",
    "from skimage import io\n",
    "#from sklearn import datasets\n",
    "from sklearn import utils\n",
    "import cv2\n",
    "\n",
    "#COLOR_BYTE = 3\n",
    "COLOR_BYTE = 1\n",
    "CATEGORY_NUM = 6\n",
    "threshhold = 80\n",
    "\n",
    "\n",
    "\n",
    "#ラベル名(0～)を付けたディレクトリに分類されたイメージファイルを読み込む\n",
    "#入力パスはラベル名の上位のディレクトリ\n",
    "def load_wavimage_bin(path): \n",
    "#     # ファイル一覧を取得\n",
    "#     files = glob.glob(os.path.join(path, '*/*.wav'))\n",
    "#     # イメージとラベル領域を確保\n",
    "#     images = np.ndarray((len(files), 128, 701)\n",
    "#                            , dtype = np.uint8)\n",
    "#     labels = np.ndarray(len(files), dtype=np.int) \n",
    "#     # イメージとラベルを読み込み\n",
    "#     for idx, file in enumerate(files):\n",
    "#         # イメージ読み込み\n",
    "#         y,sr = librosa.load(path,sr=16000,offset=0.0,duration=7.0)\n",
    "#         image = librosa.feature.melspectrogram(y=y,\n",
    "#                                                 sr=sr,\n",
    "#                                                 n_mels=128,\n",
    "#                                                 n_fft=512,\n",
    "#                                                 win_length=480,\n",
    "#                                                 hop_length=160,)\n",
    "#        # ディレクトリ名よりラベルを取得\n",
    "#         label = os.path.split(os.path.dirname(file))[-1]\n",
    "#         labels[idx] = int(label)\n",
    "#      # scikit-learn の他のデータセットの形式に合わせる\n",
    "#     flat_data = images.reshape((-1, 128 * 701 * COLOR_BYTE))\n",
    "#     images = flat_data.view()\n",
    "#     #return datasets.base.Bunch(data=images,\n",
    "#     return utils.Bunch(data=images,\n",
    "#                  target=labels.astype(np.int),\n",
    "#                  target_names=np.arange(CATEGORY_NUM),\n",
    "#                  images=images,\n",
    "#                  DESCR=None)\n",
    "    files = glob.glob(os.path.join(path, '*/*.wav'))\n",
    "    images = np.ndarray((len(files), 128, 701), dtype = np.uint8)\n",
    "    labels = np.ndarray(len(files), dtype=np.int)\n",
    "    for idx, file in enumerate(files):\n",
    "        y,sr = librosa.load(file,sr=16000,offset=0.0,duration=7.0)\n",
    "\n",
    "        image = librosa.feature.melspectrogram(y=y,\n",
    "                                            sr=sr,\n",
    "                                            n_mels=128,\n",
    "                                            n_fft=512,\n",
    "                                            win_length=480,\n",
    "                                            hop_length=160,)\n",
    "        \n",
    "\n",
    "        # ディレクトリ名よりラベルを取得\n",
    "        label = os.path.split(os.path.dirname(file))[-1]\n",
    "        labels[idx] = int(label)\n",
    "        \n",
    "    flat_data = images.reshape((-1, 128 * 701 * COLOR_BYTE))\n",
    "    images = flat_data.view()\n",
    "    return utils.Bunch(data=images,\n",
    "                 target=labels.astype(np.int),\n",
    "                 target_names=np.arange(CATEGORY_NUM),\n",
    "                 images=images,\n",
    "                 DESCR=None)\n",
    "if __name__ == '__main__':\n",
    "    import matplotlib.pyplot as plt\n",
    "\n",
    "    d = load_wavimage_bin('./dataset/')\n",
    "    plt.figure(figsize=(8, 8))\n",
    "    # 画像を 2 行 3 列に表示\n",
    "    k = 0\n",
    "    for i in range(6):\n",
    "        for j in range(4):\n",
    "            img = d.images[d.target==i][j]\n",
    "            k += 1\n",
    "            plt.subplot(6,4, k)\n",
    "            plt.axis('off')\n",
    "            plt.imshow(img.reshape(128,701), cmap=\"gray\", interpolation='nearest')\n",
    "            plt.title(i)\n",
    "    plt.tight_layout()\n",
    "    plt.show()"
   ]
  },
  {
   "cell_type": "code",
   "execution_count": null,
   "metadata": {},
   "outputs": [],
   "source": [
    "import os\n",
    "import sys\n",
    "import glob\n",
    "import numpy as np\n",
    "import librosa\n",
    "from skimage import io\n",
    "#from sklearn import datasets\n",
    "from sklearn import utils\n",
    "import cv2\n",
    "\n",
    "#COLOR_BYTE = 3\n",
    "COLOR_BYTE = 1\n",
    "CATEGORY_NUM = 6\n",
    "threshhold = 80"
   ]
  },
  {
   "cell_type": "code",
   "execution_count": null,
   "metadata": {},
   "outputs": [],
   "source": [
    "path = './dataset/'"
   ]
  },
  {
   "cell_type": "code",
   "execution_count": null,
   "metadata": {
    "scrolled": true
   },
   "outputs": [],
   "source": [
    "wav = './dataset/fujitou_normal/fujitou_normal_001.wav'"
   ]
  },
  {
   "cell_type": "code",
   "execution_count": null,
   "metadata": {
    "scrolled": false
   },
   "outputs": [],
   "source": [
    "files = glob.glob(os.path.join(path, '*/*.wav'))"
   ]
  },
  {
   "cell_type": "code",
   "execution_count": null,
   "metadata": {},
   "outputs": [],
   "source": [
    "files"
   ]
  },
  {
   "cell_type": "code",
   "execution_count": null,
   "metadata": {},
   "outputs": [],
   "source": [
    "images = np.ndarray((len(files), 128, 701), dtype = np.uint8)"
   ]
  },
  {
   "cell_type": "code",
   "execution_count": null,
   "metadata": {},
   "outputs": [],
   "source": [
    "labels = np.ndarray(len(files), dtype=np.int) "
   ]
  },
  {
   "cell_type": "code",
   "execution_count": null,
   "metadata": {
    "scrolled": true
   },
   "outputs": [],
   "source": [
    "labels"
   ]
  },
  {
   "cell_type": "code",
   "execution_count": null,
   "metadata": {},
   "outputs": [],
   "source": [
    "for idx, file in enumerate(files):\n",
    "    y,sr = librosa.load(file,sr=16000,offset=0.0,duration=7.0)\n",
    "\n",
    "    image = librosa.feature.melspectrogram(y=y,\n",
    "                                        sr=sr,\n",
    "                                        n_mels=128,\n",
    "                                        n_fft=512,\n",
    "                                        win_length=480,\n",
    "                                        hop_length=160,)\n",
    "\n",
    "    # ディレクトリ名よりラベルを取得\n",
    "    label = os.path.split(os.path.dirname(file))[-1]\n",
    "    labels[idx] = int(label)"
   ]
  },
  {
   "cell_type": "code",
   "execution_count": null,
   "metadata": {},
   "outputs": [],
   "source": [
    "flat_data = images.reshape((-1, 128 * 701 * COLOR_BYTE))\n",
    "images = flat_data.view()"
   ]
  },
  {
   "cell_type": "code",
   "execution_count": null,
   "metadata": {},
   "outputs": [],
   "source": [
    "images"
   ]
  },
  {
   "cell_type": "code",
   "execution_count": null,
   "metadata": {},
   "outputs": [],
   "source": []
  },
  {
   "cell_type": "code",
   "execution_count": null,
   "metadata": {},
   "outputs": [],
   "source": [
    "y,sr = librosa.load(wav,sr=16000,offset=0.0,duration=7.0)\n",
    "\n",
    "image = librosa.feature.melspectrogram(y=y,\n",
    "                                        sr=sr,\n",
    "                                        n_mels=128,\n",
    "                                        n_fft=512,\n",
    "                                        win_length=480,\n",
    "                                        hop_length=160,)\n",
    "\n",
    "# ディレクトリ名よりラベルを取得\n",
    "label = os.path.split(os.path.dirname(file))[-1]\n",
    "labels[idx] = int(label)"
   ]
  },
  {
   "cell_type": "code",
   "execution_count": null,
   "metadata": {},
   "outputs": [],
   "source": []
  },
  {
   "cell_type": "code",
   "execution_count": null,
   "metadata": {},
   "outputs": [],
   "source": []
  },
  {
   "cell_type": "code",
   "execution_count": null,
   "metadata": {},
   "outputs": [],
   "source": []
  },
  {
   "cell_type": "code",
   "execution_count": null,
   "metadata": {},
   "outputs": [],
   "source": []
  },
  {
   "cell_type": "code",
   "execution_count": null,
   "metadata": {},
   "outputs": [],
   "source": []
  },
  {
   "cell_type": "code",
   "execution_count": null,
   "metadata": {},
   "outputs": [],
   "source": []
  },
  {
   "cell_type": "code",
   "execution_count": null,
   "metadata": {},
   "outputs": [],
   "source": []
  },
  {
   "cell_type": "code",
   "execution_count": null,
   "metadata": {},
   "outputs": [],
   "source": []
  },
  {
   "cell_type": "code",
   "execution_count": null,
   "metadata": {},
   "outputs": [],
   "source": []
  },
  {
   "cell_type": "code",
   "execution_count": null,
   "metadata": {},
   "outputs": [],
   "source": []
  },
  {
   "cell_type": "code",
   "execution_count": null,
   "metadata": {},
   "outputs": [],
   "source": []
  },
  {
   "cell_type": "code",
   "execution_count": null,
   "metadata": {},
   "outputs": [],
   "source": []
  },
  {
   "cell_type": "code",
   "execution_count": null,
   "metadata": {},
   "outputs": [],
   "source": []
  },
  {
   "cell_type": "code",
   "execution_count": null,
   "metadata": {},
   "outputs": [],
   "source": []
  },
  {
   "cell_type": "code",
   "execution_count": null,
   "metadata": {},
   "outputs": [],
   "source": [
    "# n_mels is number of Mel bands to generate\n",
    "n_mels=128\n",
    "# hop_length is number of samples between successive frames.\n",
    "hop_length=2068\n",
    "# n_fft is length of the FFT window\n",
    "n_fft=2048\n",
    "# Passing through arguments to the Mel filters\n",
    "S = librosa.feature.melspectrogram(y=y, sr=sr, n_mels=n_mels, hop_length=hop_length, n_fft=n_fft)\n",
    "\n",
    "log_S = librosa.power_to_db(log_S, np.max)\n",
    "print(np.max)\n",
    "\n",
    "\n",
    "plt.figure(figsize=(12, 4))\n",
    "librosa.display.specshow(data=S, sr=sr, hop_length=hop_length, x_axis='time', y_axis='mel')\n",
    "#librosa.display.specshow(data=log_S, sr=sr, hop_length=hop_length, x_axis='time', y_axis='mel')\n",
    "plt.title('Mel spectrogram')\n",
    "plt.tight_layout()"
   ]
  },
  {
   "cell_type": "code",
   "execution_count": null,
   "metadata": {},
   "outputs": [],
   "source": [
    "# Load\n",
    "y, sr = librosa.load(audio_path,sr=16000)\n"
   ]
  },
  {
   "cell_type": "code",
   "execution_count": null,
   "metadata": {},
   "outputs": [],
   "source": [
    "import librosa\n",
    "import glob\n",
    "import numpy as np"
   ]
  },
  {
   "cell_type": "code",
   "execution_count": null,
   "metadata": {},
   "outputs": [],
   "source": [
    "def extract_mel(wav, sr, n_mels=64): #Output -> (timeframe, mel_dim)\n",
    "    audio, _ = librosa.load(wav, sr=sr)\n",
    "    mel = librosa.feature.melspectrogram(y=audio, sr=sr, n_mels=n_mels).T\n",
    "    return mel"
   ]
  },
  {
   "cell_type": "code",
   "execution_count": null,
   "metadata": {},
   "outputs": [],
   "source": [
    "def data_list(path, sr, n_mels=64):\n",
    "    wav_list = glob.glob(os.path.join(path, '*/*/*'))\n",
    "    size = len(wav_list)\n",
    "    data = np.ones((1, n_mels))\n",
    "    count= 0\n",
    "    for wavname in wav_list:\n",
    "        component = extract_mel(wavname, sr=sr, n_mels=64)\n",
    "        data = np.concatenate([data, component], axis=0)\n",
    "        count += 1\n",
    "        sys.stdout.write(\"\\r%s\" % \"現在\"+str(np.around((count/len(wav_list))*100 , 2))+\"%完了\")\n",
    "        sys.stdout.flush()\n",
    "    return data[1:], size"
   ]
  },
  {
   "cell_type": "code",
   "execution_count": null,
   "metadata": {},
   "outputs": [],
   "source": []
  },
  {
   "cell_type": "code",
   "execution_count": null,
   "metadata": {
    "scrolled": true
   },
   "outputs": [],
   "source": [
    "from pydub import AudioSegment\n"
   ]
  }
 ],
 "metadata": {
  "kernelspec": {
   "display_name": "Python 3",
   "language": "python",
   "name": "python3"
  },
  "language_info": {
   "codemirror_mode": {
    "name": "ipython",
    "version": 3
   },
   "file_extension": ".py",
   "mimetype": "text/x-python",
   "name": "python",
   "nbconvert_exporter": "python",
   "pygments_lexer": "ipython3",
   "version": "3.6.10"
  }
 },
 "nbformat": 4,
 "nbformat_minor": 4
}
