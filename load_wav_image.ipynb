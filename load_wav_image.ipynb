{
 "cells": [
  {
   "cell_type": "markdown",
   "metadata": {},
   "source": [
    "import os\n",
    "import sys\n",
    "import glob\n",
    "import numpy as np\n",
    "from skimage import io\n",
    "#from sklearn import datasets\n",
    "from sklearn import utils\n",
    "import cv2\n",
    " \n",
    "IMAGE_SIZE = 40\n",
    "#COLOR_BYTE = 3\n",
    "COLOR_BYTE = 1\n",
    "CATEGORY_NUM = 6\n",
    "threshhold = 80\n",
    " \n",
    "## ラベル名(0～)を付けたディレクトリに分類されたイメージファイルを読み込む\n",
    "## 入力パスはラベル名の上位のディレクトリ\n",
    "def load_handimage_bin(path):\n",
    " \n",
    "    # ファイル一覧を取得\n",
    "    files = glob.glob(os.path.join(path, '*/*.png'))\n",
    " \n",
    "    # イメージとラベル領域を確保\n",
    "    #images = np.ndarray((len(files), IMAGE_SIZE, IMAGE_SIZE,\n",
    "    #                      COLOR_BYTE), dtype = np.uint8)\n",
    "    images = np.ndarray((len(files), IMAGE_SIZE, IMAGE_SIZE)\n",
    "                           , dtype = np.uint8)\n",
    " \n",
    "    labels = np.ndarray(len(files), dtype=np.int)\n",
    " \n",
    "    # イメージとラベルを読み込み\n",
    "    for idx, file in enumerate(files):\n",
    "        # イメージ読み込み\n",
    "        image = io.imread(file)\n",
    "        #image = cv2.GaussianBlur(image, (3,3), 0) # 必要に応じて、ぼかしでノイズ対策\n",
    "        retval,image = cv2.threshold(image, threshhold, 255, cv2.THRESH_BINARY)\n",
    "        images[idx] = image[:,:,0] | image[:,:,1] | image[:,:,2]\n",
    " \n",
    "        # ディレクトリ名よりラベルを取得\n",
    "        label = os.path.split(os.path.dirname(file))[-1]\n",
    "        labels[idx] = int(label)\n",
    " \n",
    "    # scikit-learn の他のデータセットの形式に合わせる\n",
    "    flat_data = images.reshape((-1, IMAGE_SIZE * IMAGE_SIZE * COLOR_BYTE))\n",
    "    images = flat_data.view()\n",
    "    #return datasets.base.Bunch(data=images,\n",
    "    return utils.Bunch(data=images,\n",
    "                 target=labels.astype(np.int),\n",
    "                 target_names=np.arange(CATEGORY_NUM),\n",
    "                 images=images,\n",
    "                 DESCR=None)\n",
    " \n",
    "if __name__ == '__main__':\n",
    "    import matplotlib.pyplot as plt\n",
    "\n",
    "    d = load_handimage_bin(\"./data/m01\")\n",
    "    plt.figure(figsize=(8, 8))\n",
    "    # 画像を 2 行 3 列に表示\n",
    "    k = 0\n",
    "    for i in range(6):\n",
    "        for j in range(4):\n",
    "            img = d.images[d.target==i][j]\n",
    "            k += 1\n",
    "            plt.subplot(6,4, k)\n",
    "            plt.axis('off')\n",
    "            plt.imshow(img.reshape(40,40), cmap=\"gray\", interpolation='nearest')\n",
    "            plt.title(i)\n",
    "    plt.tight_layout()\n",
    "    plt.show()"
   ]
  },
  {
   "cell_type": "code",
   "execution_count": null,
   "metadata": {},
   "outputs": [],
   "source": [
    "import os\n",
    "import sys\n",
    "import glob\n",
    "import numpy as np\n",
    "from skimage import io\n",
    "#from sklearn import datasets\n",
    "from sklearn import utils\n",
    "import cv2\n",
    " \n",
    "IMAGE_SIZE = 40\n",
    "#COLOR_BYTE = 3\n",
    "COLOR_BYTE = 1\n",
    "CATEGORY_NUM = 6\n",
    "threshhold = 80\n",
    " \n",
    "## ラベル名(0～)を付けたディレクトリに分類されたイメージファイルを読み込む\n",
    "## 入力パスはラベル名の上位のディレクトリ\n",
    "def load_handimage_bin(path):\n",
    " \n",
    "    # ファイル一覧を取得\n",
    "    files = glob.glob(os.path.join(path, '*/*.png'))\n",
    " \n",
    "    # イメージとラベル領域を確保\n",
    "    #images = np.ndarray((len(files), IMAGE_SIZE, IMAGE_SIZE,\n",
    "    #                      COLOR_BYTE), dtype = np.uint8)\n",
    "    images = np.ndarray((len(files), IMAGE_SIZE, IMAGE_SIZE)\n",
    "                           , dtype = np.uint8)\n",
    " \n",
    "    labels = np.ndarray(len(files), dtype=np.int)\n",
    " \n",
    "    # イメージとラベルを読み込み\n",
    "    for idx, file in enumerate(files):\n",
    "        # イメージ読み込み\n",
    "        image = io.imread(file)\n",
    "        #image = cv2.GaussianBlur(image, (3,3), 0) # 必要に応じて、ぼかしでノイズ対策\n",
    "        retval,image = cv2.threshold(image, threshhold, 255, cv2.THRESH_BINARY)\n",
    "        images[idx] = image[:,:,0] | image[:,:,1] | image[:,:,2]\n",
    " \n",
    "        # ディレクトリ名よりラベルを取得\n",
    "        label = os.path.split(os.path.dirname(file))[-1]\n",
    "        labels[idx] = int(label)\n",
    " \n",
    "    # scikit-learn の他のデータセットの形式に合わせる\n",
    "    flat_data = images.reshape((-1, IMAGE_SIZE * IMAGE_SIZE * COLOR_BYTE))\n",
    "    images = flat_data.view()\n",
    "    #return datasets.base.Bunch(data=images,\n",
    "    return utils.Bunch(data=images,\n",
    "                 target=labels.astype(np.int),\n",
    "                 target_names=np.arange(CATEGORY_NUM),\n",
    "                 images=images,\n",
    "                 DESCR=None)\n",
    " \n",
    "if __name__ == '__main__':\n",
    "    import matplotlib.pyplot as plt\n",
    "\n",
    "    d = load_handimage_bin(\"./data/m01\")\n",
    "    plt.figure(figsize=(8, 8))\n",
    "    # 画像を 2 行 3 列に表示\n",
    "    k = 0\n",
    "    for i in range(6):\n",
    "        for j in range(4):\n",
    "            img = d.images[d.target==i][j]\n",
    "            k += 1\n",
    "            plt.subplot(6,4, k)\n",
    "            plt.axis('off')\n",
    "            plt.imshow(img.reshape(40,40), cmap=\"gray\", interpolation='nearest')\n",
    "            plt.title(i)\n",
    "    plt.tight_layout()\n",
    "    plt.show()"
   ]
  },
  {
   "cell_type": "code",
   "execution_count": null,
   "metadata": {},
   "outputs": [],
   "source": []
  },
  {
   "cell_type": "markdown",
   "metadata": {},
   "source": [
    "## load_handimage_bin.py"
   ]
  },
  {
   "cell_type": "code",
   "execution_count": null,
   "metadata": {},
   "outputs": [],
   "source": []
  },
  {
   "cell_type": "markdown",
   "metadata": {},
   "source": [
    "## WAVにかえるおー"
   ]
  },
  {
   "cell_type": "code",
   "execution_count": null,
   "metadata": {},
   "outputs": [],
   "source": [
    "import os\n",
    "import sys\n",
    "import glob\n",
    "import numpy as np\n",
    "import librosa\n",
    "from skimage import io\n",
    "#from sklearn import datasets\n",
    "from sklearn import utils\n",
    "import cv2\n",
    "import librosa.display\n",
    "\n",
    "#COLOR_BYTE = 3\n",
    "COLOR_BYTE = 1\n",
    "CATEGORY_NUM = 6\n",
    "threshhold = 80\n",
    "\n",
    "\n",
    "\n",
    "#ラベル名(0～)を付けたディレクトリに分類されたイメージファイルを読み込む\n",
    "#入力パスはラベル名の上位のディレクトリ\n",
    "def load_wavimage_bin(path): \n",
    "#     # ファイル一覧を取得\n",
    "#     files = glob.glob(os.path.join(path, '*/*.wav'))\n",
    "#     # イメージとラベル領域を確保\n",
    "#     images = np.ndarray((len(files), 128, 701)\n",
    "#                            , dtype = np.uint8)\n",
    "#     labels = np.ndarray(len(files), dtype=np.int) \n",
    "#     # イメージとラベルを読み込み\n",
    "#     for idx, file in enumerate(files):\n",
    "#         # イメージ読み込み\n",
    "#         y,sr = librosa.load(path,sr=16000,offset=0.0,duration=7.0)\n",
    "#         image = librosa.feature.melspectrogram(y=y,\n",
    "#                                                 sr=sr,\n",
    "#                                                 n_mels=128,\n",
    "#                                                 n_fft=512,\n",
    "#                                                 win_length=480,\n",
    "#                                                 hop_length=160,)\n",
    "#        # ディレクトリ名よりラベルを取得\n",
    "#         label = os.path.split(os.path.dirname(file))[-1]\n",
    "#         labels[idx] = int(label)\n",
    "#      # scikit-learn の他のデータセットの形式に合わせる\n",
    "#     flat_data = images.reshape((-1, 128 * 701 * COLOR_BYTE))\n",
    "#     images = flat_data.view()\n",
    "#     #return datasets.base.Bunch(data=images,\n",
    "#     return utils.Bunch(data=images,\n",
    "#                  target=labels.astype(np.int),\n",
    "#                  target_names=np.arange(CATEGORY_NUM),\n",
    "#                  images=images,\n",
    "#                  DESCR=None)\n",
    "    # ファイル一覧を取得\n",
    "    files = glob.glob(os.path.join(path, '*/*.wav'))\n",
    "    # イメージとラベル領域を確保\n",
    "    images = np.ndarray((len(files), 128, 320), dtype = np.uint8)\n",
    "    labels = np.ndarray(len(files), dtype=np.int)\n",
    "    # イメージとラベルを読み込み\n",
    "    for idx, file in enumerate(files):\n",
    "        # イメージ読み込み\n",
    "        y,sr = librosa.load(file,offset=0.0,duration=7.0)\n",
    "        S = librosa.feature.melspectrogram(y=y,sr=sr,n_mels=128)\n",
    "        image = librosa.amplitude_to_db(S, ref=np.max)\n",
    "\n",
    "        # ディレクトリ名よりラベルを取得\n",
    "        label = os.path.split(os.path.dirname(file))[-1]\n",
    "        labels[idx] = int(label)\n",
    "        \n",
    "    flat_data = images.reshape((-1, 128 * 320 * COLOR_BYTE))\n",
    "    images = flat_data.view()\n",
    "    return utils.Bunch(data=images,\n",
    "                 sr = sr,\n",
    "                 target=labels.astype(np.int),\n",
    "                 target_names=np.arange(CATEGORY_NUM),\n",
    "                 images=images,\n",
    "                 DESCR=None)\n",
    "if __name__ == '__main__':\n",
    "    import matplotlib.pyplot as plt\n",
    "\n",
    "    d = load_wavimage_bin('./dataset/')\n",
    "    plt.figure(figsize=(8, 8))\n",
    "    # 画像を 2 行 3 列に表示\n",
    "    k = 0\n",
    "    for i in range(2):\n",
    "        for j in range(4):\n",
    "            img = d.images[d.target==i][j]\n",
    "            k += 1\n",
    "            plt.subplot(6,2, k)\n",
    "            plt.axis('off')\n",
    "            #plt.imshow(img.reshape(128,320), cmap=\"gray\", interpolation='nearest')\n",
    "            librosa.display.specshow(img, x_axis='time', y_axis='mel')\n",
    "            plt.title(i)\n",
    "    plt.tight_layout()\n",
    "    plt.show()"
   ]
  },
  {
   "cell_type": "code",
   "execution_count": 2,
   "metadata": {},
   "outputs": [],
   "source": [
    "import os\n",
    "import sys\n",
    "import glob\n",
    "import numpy as np\n",
    "import librosa\n",
    "from skimage import io\n",
    "#from sklearn import datasets\n",
    "from sklearn import utils\n",
    "import cv2\n",
    "\n",
    "#COLOR_BYTE = 3\n",
    "COLOR_BYTE = 1\n",
    "CATEGORY_NUM = 6\n",
    "threshhold = 80"
   ]
  },
  {
   "cell_type": "code",
   "execution_count": 3,
   "metadata": {},
   "outputs": [],
   "source": [
    "path = './dataset/'"
   ]
  },
  {
   "cell_type": "code",
   "execution_count": 4,
   "metadata": {
    "scrolled": true
   },
   "outputs": [],
   "source": [
    "wav = './dataset/fujitou_normal/fujitou_normal_001.wav'"
   ]
  },
  {
   "cell_type": "code",
   "execution_count": 5,
   "metadata": {
    "scrolled": false
   },
   "outputs": [],
   "source": [
    "files = glob.glob(os.path.join(path, '*/*.wav'))"
   ]
  },
  {
   "cell_type": "code",
   "execution_count": 6,
   "metadata": {},
   "outputs": [
    {
     "data": {
      "text/plain": [
       "['./dataset/1/uemura_normal_071.wav',\n",
       " './dataset/1/uemura_normal_100.wav',\n",
       " './dataset/1/uemura_normal_041.wav',\n",
       " './dataset/1/uemura_normal_040.wav',\n",
       " './dataset/1/uemura_normal_057.wav',\n",
       " './dataset/1/uemura_normal_082.wav',\n",
       " './dataset/1/uemura_normal_010.wav',\n",
       " './dataset/1/uemura_normal_028.wav',\n",
       " './dataset/1/uemura_normal_075.wav',\n",
       " './dataset/1/uemura_normal_030.wav',\n",
       " './dataset/1/uemura_normal_006.wav',\n",
       " './dataset/1/uemura_normal_046.wav',\n",
       " './dataset/1/uemura_normal_025.wav',\n",
       " './dataset/1/uemura_normal_034.wav',\n",
       " './dataset/1/uemura_normal_073.wav',\n",
       " './dataset/1/uemura_normal_074.wav',\n",
       " './dataset/1/uemura_normal_087.wav',\n",
       " './dataset/1/uemura_normal_019.wav',\n",
       " './dataset/1/uemura_normal_042.wav',\n",
       " './dataset/1/uemura_normal_015.wav',\n",
       " './dataset/1/uemura_normal_007.wav',\n",
       " './dataset/1/uemura_normal_072.wav',\n",
       " './dataset/1/uemura_normal_011.wav',\n",
       " './dataset/1/uemura_normal_055.wav',\n",
       " './dataset/1/uemura_normal_094.wav',\n",
       " './dataset/1/uemura_normal_083.wav',\n",
       " './dataset/1/uemura_normal_070.wav',\n",
       " './dataset/1/uemura_normal_002.wav',\n",
       " './dataset/1/uemura_normal_098.wav',\n",
       " './dataset/1/uemura_normal_077.wav',\n",
       " './dataset/1/uemura_normal_008.wav',\n",
       " './dataset/1/uemura_normal_014.wav',\n",
       " './dataset/1/uemura_normal_035.wav',\n",
       " './dataset/1/uemura_normal_032.wav',\n",
       " './dataset/1/uemura_normal_059.wav',\n",
       " './dataset/1/uemura_normal_027.wav',\n",
       " './dataset/1/uemura_normal_063.wav',\n",
       " './dataset/1/uemura_normal_096.wav',\n",
       " './dataset/1/uemura_normal_084.wav',\n",
       " './dataset/1/uemura_normal_066.wav',\n",
       " './dataset/1/uemura_normal_076.wav',\n",
       " './dataset/1/uemura_normal_061.wav',\n",
       " './dataset/1/uemura_normal_081.wav',\n",
       " './dataset/1/uemura_normal_026.wav',\n",
       " './dataset/1/uemura_normal_023.wav',\n",
       " './dataset/1/uemura_normal_017.wav',\n",
       " './dataset/1/uemura_normal_044.wav',\n",
       " './dataset/1/uemura_normal_016.wav',\n",
       " './dataset/1/uemura_normal_088.wav',\n",
       " './dataset/1/uemura_normal_024.wav',\n",
       " './dataset/1/uemura_normal_086.wav',\n",
       " './dataset/1/uemura_normal_022.wav',\n",
       " './dataset/1/uemura_normal_091.wav',\n",
       " './dataset/1/uemura_normal_012.wav',\n",
       " './dataset/1/uemura_normal_058.wav',\n",
       " './dataset/1/uemura_normal_054.wav',\n",
       " './dataset/1/uemura_normal_048.wav',\n",
       " './dataset/1/uemura_normal_001.wav',\n",
       " './dataset/1/uemura_normal_020.wav',\n",
       " './dataset/1/uemura_normal_093.wav',\n",
       " './dataset/1/uemura_normal_050.wav',\n",
       " './dataset/1/uemura_normal_085.wav',\n",
       " './dataset/1/uemura_normal_092.wav',\n",
       " './dataset/1/uemura_normal_068.wav',\n",
       " './dataset/1/uemura_normal_078.wav',\n",
       " './dataset/1/uemura_normal_069.wav',\n",
       " './dataset/1/uemura_normal_095.wav',\n",
       " './dataset/1/uemura_normal_051.wav',\n",
       " './dataset/1/uemura_normal_080.wav',\n",
       " './dataset/1/uemura_normal_065.wav',\n",
       " './dataset/1/uemura_normal_031.wav',\n",
       " './dataset/1/uemura_normal_039.wav',\n",
       " './dataset/1/uemura_normal_079.wav',\n",
       " './dataset/1/uemura_normal_089.wav',\n",
       " './dataset/1/uemura_normal_067.wav',\n",
       " './dataset/1/uemura_normal_099.wav',\n",
       " './dataset/1/uemura_normal_029.wav',\n",
       " './dataset/1/uemura_normal_045.wav',\n",
       " './dataset/1/uemura_normal_021.wav',\n",
       " './dataset/1/uemura_normal_064.wav',\n",
       " './dataset/1/uemura_normal_005.wav',\n",
       " './dataset/1/uemura_normal_053.wav',\n",
       " './dataset/1/uemura_normal_049.wav',\n",
       " './dataset/1/uemura_normal_060.wav',\n",
       " './dataset/1/uemura_normal_018.wav',\n",
       " './dataset/1/uemura_normal_062.wav',\n",
       " './dataset/1/uemura_normal_037.wav',\n",
       " './dataset/1/uemura_normal_036.wav',\n",
       " './dataset/1/uemura_normal_047.wav',\n",
       " './dataset/1/uemura_normal_038.wav',\n",
       " './dataset/1/uemura_normal_090.wav',\n",
       " './dataset/1/uemura_normal_052.wav',\n",
       " './dataset/1/uemura_normal_033.wav',\n",
       " './dataset/1/uemura_normal_003.wav',\n",
       " './dataset/1/uemura_normal_013.wav',\n",
       " './dataset/1/uemura_normal_056.wav',\n",
       " './dataset/1/uemura_normal_004.wav',\n",
       " './dataset/1/uemura_normal_009.wav',\n",
       " './dataset/1/uemura_normal_043.wav',\n",
       " './dataset/1/uemura_normal_097.wav',\n",
       " './dataset/0/fujitou_normal_001.wav',\n",
       " './dataset/0/fujitou_normal_075.wav',\n",
       " './dataset/0/fujitou_normal_025.wav',\n",
       " './dataset/0/fujitou_normal_092.wav',\n",
       " './dataset/0/fujitou_normal_040.wav',\n",
       " './dataset/0/fujitou_normal_054.wav',\n",
       " './dataset/0/fujitou_normal_002.wav',\n",
       " './dataset/0/fujitou_normal_060.wav',\n",
       " './dataset/0/fujitou_normal_094.wav',\n",
       " './dataset/0/fujitou_normal_041.wav',\n",
       " './dataset/0/fujitou_normal_042.wav',\n",
       " './dataset/0/fujitou_normal_093.wav',\n",
       " './dataset/0/fujitou_normal_091.wav',\n",
       " './dataset/0/fujitou_normal_013.wav',\n",
       " './dataset/0/fujitou_normal_063.wav',\n",
       " './dataset/0/fujitou_normal_095.wav',\n",
       " './dataset/0/fujitou_normal_083.wav',\n",
       " './dataset/0/fujitou_normal_049.wav',\n",
       " './dataset/0/fujitou_normal_039.wav',\n",
       " './dataset/0/fujitou_normal_022.wav',\n",
       " './dataset/0/fujitou_normal_057.wav',\n",
       " './dataset/0/fujitou_normal_073.wav',\n",
       " './dataset/0/fujitou_normal_027.wav',\n",
       " './dataset/0/fujitou_normal_004.wav',\n",
       " './dataset/0/fujitou_normal_071.wav',\n",
       " './dataset/0/fujitou_normal_008.wav',\n",
       " './dataset/0/fujitou_normal_050.wav',\n",
       " './dataset/0/fujitou_normal_047.wav',\n",
       " './dataset/0/fujitou_normal_031.wav',\n",
       " './dataset/0/fujitou_normal_045.wav',\n",
       " './dataset/0/fujitou_normal_087.wav',\n",
       " './dataset/0/fujitou_normal_055.wav',\n",
       " './dataset/0/fujitou_normal_028.wav',\n",
       " './dataset/0/fujitou_normal_058.wav',\n",
       " './dataset/0/fujitou_normal_030.wav',\n",
       " './dataset/0/fujitou_normal_044.wav',\n",
       " './dataset/0/fujitou_normal_010.wav',\n",
       " './dataset/0/fujitou_normal_070.wav',\n",
       " './dataset/0/fujitou_normal_037.wav',\n",
       " './dataset/0/fujitou_normal_084.wav',\n",
       " './dataset/0/fujitou_normal_079.wav',\n",
       " './dataset/0/fujitou_normal_021.wav',\n",
       " './dataset/0/fujitou_normal_051.wav',\n",
       " './dataset/0/fujitou_normal_064.wav',\n",
       " './dataset/0/fujitou_normal_090.wav',\n",
       " './dataset/0/fujitou_normal_052.wav',\n",
       " './dataset/0/fujitou_normal_080.wav',\n",
       " './dataset/0/fujitou_normal_097.wav',\n",
       " './dataset/0/fujitou_normal_065.wav',\n",
       " './dataset/0/fujitou_normal_023.wav',\n",
       " './dataset/0/fujitou_normal_072.wav',\n",
       " './dataset/0/fujitou_normal_046.wav',\n",
       " './dataset/0/fujitou_normal_006.wav',\n",
       " './dataset/0/fujitou_normal_033.wav',\n",
       " './dataset/0/fujitou_normal_020.wav',\n",
       " './dataset/0/fujitou_normal_024.wav',\n",
       " './dataset/0/fujitou_normal_016.wav',\n",
       " './dataset/0/fujitou_normal_038.wav',\n",
       " './dataset/0/fujitou_normal_003.wav',\n",
       " './dataset/0/fujitou_normal_036.wav',\n",
       " './dataset/0/fujitou_normal_029.wav',\n",
       " './dataset/0/fujitou_normal_069.wav',\n",
       " './dataset/0/fujitou_normal_034.wav',\n",
       " './dataset/0/fujitou_normal_078.wav',\n",
       " './dataset/0/fujitou_normal_011.wav',\n",
       " './dataset/0/fujitou_normal_098.wav',\n",
       " './dataset/0/fujitou_normal_068.wav',\n",
       " './dataset/0/fujitou_normal_061.wav',\n",
       " './dataset/0/fujitou_normal_089.wav',\n",
       " './dataset/0/fujitou_normal_088.wav',\n",
       " './dataset/0/fujitou_normal_067.wav',\n",
       " './dataset/0/fujitou_normal_062.wav',\n",
       " './dataset/0/fujitou_normal_026.wav',\n",
       " './dataset/0/fujitou_normal_017.wav',\n",
       " './dataset/0/fujitou_normal_018.wav',\n",
       " './dataset/0/fujitou_normal_074.wav',\n",
       " './dataset/0/fujitou_normal_032.wav',\n",
       " './dataset/0/fujitou_normal_035.wav',\n",
       " './dataset/0/fujitou_normal_096.wav',\n",
       " './dataset/0/fujitou_normal_048.wav',\n",
       " './dataset/0/fujitou_normal_015.wav',\n",
       " './dataset/0/fujitou_normal_100.wav',\n",
       " './dataset/0/fujitou_normal_086.wav',\n",
       " './dataset/0/fujitou_normal_076.wav',\n",
       " './dataset/0/fujitou_normal_059.wav',\n",
       " './dataset/0/fujitou_normal_056.wav',\n",
       " './dataset/0/fujitou_normal_082.wav',\n",
       " './dataset/0/fujitou_normal_081.wav',\n",
       " './dataset/0/fujitou_normal_053.wav',\n",
       " './dataset/0/fujitou_normal_007.wav',\n",
       " './dataset/0/fujitou_normal_085.wav',\n",
       " './dataset/0/fujitou_normal_014.wav',\n",
       " './dataset/0/fujitou_normal_005.wav',\n",
       " './dataset/0/fujitou_normal_019.wav',\n",
       " './dataset/0/fujitou_normal_077.wav',\n",
       " './dataset/0/fujitou_normal_066.wav',\n",
       " './dataset/0/fujitou_normal_043.wav',\n",
       " './dataset/0/fujitou_normal_009.wav',\n",
       " './dataset/0/fujitou_normal_012.wav',\n",
       " './dataset/0/fujitou_normal_099.wav']"
      ]
     },
     "execution_count": 6,
     "metadata": {},
     "output_type": "execute_result"
    }
   ],
   "source": [
    "files"
   ]
  },
  {
   "cell_type": "code",
   "execution_count": 7,
   "metadata": {},
   "outputs": [],
   "source": [
    "images = np.ndarray((len(files), 128, 320), dtype = np.uint8)"
   ]
  },
  {
   "cell_type": "code",
   "execution_count": 8,
   "metadata": {
    "scrolled": true
   },
   "outputs": [
    {
     "data": {
      "text/plain": [
       "array([[[0, 0, 0, ..., 0, 0, 0],\n",
       "        [0, 0, 0, ..., 0, 0, 0],\n",
       "        [0, 0, 0, ..., 0, 0, 0],\n",
       "        ...,\n",
       "        [0, 0, 0, ..., 0, 0, 0],\n",
       "        [0, 0, 0, ..., 0, 0, 0],\n",
       "        [0, 0, 0, ..., 0, 0, 0]],\n",
       "\n",
       "       [[0, 0, 0, ..., 0, 0, 0],\n",
       "        [0, 0, 0, ..., 0, 0, 0],\n",
       "        [0, 0, 0, ..., 0, 0, 0],\n",
       "        ...,\n",
       "        [0, 0, 0, ..., 0, 0, 0],\n",
       "        [0, 0, 0, ..., 0, 0, 0],\n",
       "        [0, 0, 0, ..., 0, 0, 0]],\n",
       "\n",
       "       [[0, 0, 0, ..., 0, 0, 0],\n",
       "        [0, 0, 0, ..., 0, 0, 0],\n",
       "        [0, 0, 0, ..., 0, 0, 0],\n",
       "        ...,\n",
       "        [0, 0, 0, ..., 0, 0, 0],\n",
       "        [0, 0, 0, ..., 0, 0, 0],\n",
       "        [0, 0, 0, ..., 0, 0, 0]],\n",
       "\n",
       "       ...,\n",
       "\n",
       "       [[0, 0, 0, ..., 0, 0, 0],\n",
       "        [0, 0, 0, ..., 0, 0, 0],\n",
       "        [0, 0, 0, ..., 0, 0, 0],\n",
       "        ...,\n",
       "        [0, 0, 0, ..., 0, 0, 0],\n",
       "        [0, 0, 0, ..., 0, 0, 0],\n",
       "        [0, 0, 0, ..., 0, 0, 0]],\n",
       "\n",
       "       [[0, 0, 0, ..., 0, 0, 0],\n",
       "        [0, 0, 0, ..., 0, 0, 0],\n",
       "        [0, 0, 0, ..., 0, 0, 0],\n",
       "        ...,\n",
       "        [0, 0, 0, ..., 0, 0, 0],\n",
       "        [0, 0, 0, ..., 0, 0, 0],\n",
       "        [0, 0, 0, ..., 0, 0, 0]],\n",
       "\n",
       "       [[0, 0, 0, ..., 0, 0, 0],\n",
       "        [0, 0, 0, ..., 0, 0, 0],\n",
       "        [0, 0, 0, ..., 0, 0, 0],\n",
       "        ...,\n",
       "        [0, 0, 0, ..., 0, 0, 0],\n",
       "        [0, 0, 0, ..., 0, 0, 0],\n",
       "        [0, 0, 0, ..., 0, 0, 0]]], dtype=uint8)"
      ]
     },
     "execution_count": 8,
     "metadata": {},
     "output_type": "execute_result"
    }
   ],
   "source": [
    "images"
   ]
  },
  {
   "cell_type": "code",
   "execution_count": 9,
   "metadata": {},
   "outputs": [],
   "source": [
    "labels = np.ndarray(len(files), dtype=np.int) "
   ]
  },
  {
   "cell_type": "code",
   "execution_count": 10,
   "metadata": {
    "collapsed": true
   },
   "outputs": [
    {
     "data": {
      "text/plain": [
       "array([    140159037473536,     140159037473536,      94576613633856,\n",
       "            94576613633856,                   0,                   0,\n",
       "                        -1,                   0, 2318278683292336128,\n",
       "                         0,                   9,     140157974279680,\n",
       "            94576583861888,                  -1,                   0,\n",
       "                        -1,     140157787893552, 3467820297745334272,\n",
       "                        72,                   7,     140157974279680,\n",
       "            94576583862084,                   0,                   1,\n",
       "                         1,     140157787893552, 3184080309901590528,\n",
       "                       144,                   3,     140157974279680,\n",
       "            94576583862088,                   0,                   1,\n",
       "                         1,                   0,                   0,\n",
       "                       216,                   9,     140157974279680,\n",
       "            94576583862136,                   0,                   4,\n",
       "                         1,                  10, 3183532761700892672,\n",
       "                       288,                   9,     140157974279686,\n",
       "            94576583862164,                   6,                   4,\n",
       "                         1,                   0, 2318281075589120000,\n",
       "                       360,                   9,     140157974279686,\n",
       "            94576583862236, 2318280822927401004,                   6,\n",
       "                         3,                   0, 3467820297745334272,\n",
       "                       432,                  11,     140157974279726,\n",
       "            94576583862244,                  40,                   6,\n",
       "                         3, 6566283579056201760, 3184080309901590528,\n",
       "                       504,                  10,     140157974279726,\n",
       "            94576583862316, 6566283579056201760, 3184080310709005360,\n",
       "       3184080310676368928, 6641786011744219168, 2314885530279477248,\n",
       "       2318280822927416096, 2318278684066196528, 6714902418567474224,\n",
       "       2314885530823580716, 3467820299274166304, 3327647890388557868,\n",
       "       2318280822927401004, 7952352384189816112, 3323691847349444640,\n",
       "       2336906885714423342, 6582890602682130464, 3184080310709005360,\n",
       "       3184080310676368928, 6641786011744219168, 2314885530818453614,\n",
       "       2318280822927416096, 2318278684066196528, 6714902418567474224,\n",
       "       2314885530823580716, 3467820299274166304, 3327647890388557868,\n",
       "       2318280822927401004, 2314885866833337648, 3327647890186182688,\n",
       "       2314885530823580716, 3467820299274166304, 3327647890388557868,\n",
       "       2318280822927401004, 2314885866833337648, 3184145130086998048,\n",
       "       3323705110209245216, 3467820298285100590, 2336906602263617580,\n",
       "       6566283579056201760, 3184080310709005360, 3184080310676368928,\n",
       "       3196813771782500384, 2314885532131028572, 2318281077117952032,\n",
       "       3327632548831439920, 3184080310709005358, 2314971550628786208,\n",
       "       3484414059051229216, 2318280822927401004, 2318280822927273518,\n",
       "       7952279820780448816, 2314885530818453536, 3467820298285101147,\n",
       "       3467820289930174508, 3196764225241358380, 2314885530818473564,\n",
       "       7952279618884345888, 2314885530818453536, 3467820298285101147,\n",
       "       3467820289930174508, 3196764225241358380, 2314885530818473564,\n",
       "       3184080310712868896, 3183532762240659488, 3467820298285101088,\n",
       "                      5249,     140159037471904,     140159037471904,\n",
       "                         0,                   0, 2314885530818453614,\n",
       "       2318280822927416155, 2318278684066196528, 6714902418567474224,\n",
       "       2314885530823580716, 3467820299274166304, 3327647890388557868,\n",
       "       2318280822927401004, 2314885866833337648, 3184145130086998048,\n",
       "       3323705110209245216, 3467820298285100590, 2336906602263617580,\n",
       "       3323691847349444640, 2314885866833325614, 3184145130086998048,\n",
       "       3323705110209245216, 3467820298285100590, 2336906602263617580,\n",
       "       6566283579056201760, 3184080310709005360, 3184080310676368928,\n",
       "       6641786011744219168, 2314885530818453614, 2318280822927416096,\n",
       "       2318278684066196528, 6714902418567474224, 8104636977815248221,\n",
       "       2970251971815357797, 3196764225241350178,                1424,\n",
       "                      1472,                   0,      94576567426144,\n",
       "                      1411,                  -1, 3183532762240659684,\n",
       "                         0, 4189017755886035579, 8083807916600337019,\n",
       "       6999220690442871148, 6582955509725360754, 3184080310709005360,\n",
       "       3184080310676368928, 6641786011744219168, 2314885530818453614,\n",
       "       2318280822927416096, 2318278684066196528, 6714902418567474224,\n",
       "       2314885530823580716, 3467820299274166304, 3327647890388557868,\n",
       "       2318280822927401004, 2314885866833337648])"
      ]
     },
     "execution_count": 10,
     "metadata": {},
     "output_type": "execute_result"
    }
   ],
   "source": [
    "labels"
   ]
  },
  {
   "cell_type": "code",
   "execution_count": 11,
   "metadata": {},
   "outputs": [],
   "source": [
    "# for idx, file in enumerate(files):\n",
    "#     y,sr = librosa.load(file,sr=16000,offset=0.0,duration=7.0)\n",
    "\n",
    "#     image = librosa.feature.melspectrogram(y=y,\n",
    "#                                         sr=sr,\n",
    "#                                         n_mels=128,\n",
    "#                                         n_fft=512,\n",
    "#                                         win_length=480,\n",
    "#                                         hop_length=160,)\n",
    "\n",
    "#     # ディレクトリ名よりラベルを取得\n",
    "#     label = os.path.split(os.path.dirname(file))[-1]\n",
    "#     labels[idx] = int(label)\n",
    "for idx, file in enumerate(files):\n",
    "    y,sr = librosa.load(file,offset=0.0,duration=7.0)\n",
    "    S = librosa.feature.melspectrogram(y=y,sr=sr,n_mels=128)\n",
    "    image = librosa.amplitude_to_db(S, ref=np.max)\n",
    "\n",
    "    # ディレクトリ名よりラベルを取得\n",
    "    label = os.path.split(os.path.dirname(file))[-1]\n",
    "    labels[idx] = int(label)\n"
   ]
  },
  {
   "cell_type": "code",
   "execution_count": 17,
   "metadata": {},
   "outputs": [],
   "source": [
    "import pandas as pd\n",
    "\n",
    "#現在の最大表示列数の出力\n",
    "pd.get_option(\"display.max_columns\")\n",
    "\n",
    "#最大表示列数の指定（ここでは50列を指定）\n",
    "pd.set_option('display.max_columns', 50)"
   ]
  },
  {
   "cell_type": "code",
   "execution_count": 18,
   "metadata": {
    "scrolled": false
   },
   "outputs": [
    {
     "data": {
      "text/plain": [
       "array([[-80., -80., -80., ..., -80., -80., -80.],\n",
       "       [-80., -80., -80., ..., -80., -80., -80.],\n",
       "       [-80., -80., -80., ..., -80., -80., -80.],\n",
       "       ...,\n",
       "       [-80., -80., -80., ..., -80., -80., -80.],\n",
       "       [-80., -80., -80., ..., -80., -80., -80.],\n",
       "       [-80., -80., -80., ..., -80., -80., -80.]], dtype=float32)"
      ]
     },
     "execution_count": 18,
     "metadata": {},
     "output_type": "execute_result"
    }
   ],
   "source": [
    "image"
   ]
  },
  {
   "cell_type": "code",
   "execution_count": 13,
   "metadata": {},
   "outputs": [
    {
     "data": {
      "text/plain": [
       "array([1, 1, 1, 1, 1, 1, 1, 1, 1, 1, 1, 1, 1, 1, 1, 1, 1, 1, 1, 1, 1, 1,\n",
       "       1, 1, 1, 1, 1, 1, 1, 1, 1, 1, 1, 1, 1, 1, 1, 1, 1, 1, 1, 1, 1, 1,\n",
       "       1, 1, 1, 1, 1, 1, 1, 1, 1, 1, 1, 1, 1, 1, 1, 1, 1, 1, 1, 1, 1, 1,\n",
       "       1, 1, 1, 1, 1, 1, 1, 1, 1, 1, 1, 1, 1, 1, 1, 1, 1, 1, 1, 1, 1, 1,\n",
       "       1, 1, 1, 1, 1, 1, 1, 1, 1, 1, 1, 1, 0, 0, 0, 0, 0, 0, 0, 0, 0, 0,\n",
       "       0, 0, 0, 0, 0, 0, 0, 0, 0, 0, 0, 0, 0, 0, 0, 0, 0, 0, 0, 0, 0, 0,\n",
       "       0, 0, 0, 0, 0, 0, 0, 0, 0, 0, 0, 0, 0, 0, 0, 0, 0, 0, 0, 0, 0, 0,\n",
       "       0, 0, 0, 0, 0, 0, 0, 0, 0, 0, 0, 0, 0, 0, 0, 0, 0, 0, 0, 0, 0, 0,\n",
       "       0, 0, 0, 0, 0, 0, 0, 0, 0, 0, 0, 0, 0, 0, 0, 0, 0, 0, 0, 0, 0, 0,\n",
       "       0, 0])"
      ]
     },
     "execution_count": 13,
     "metadata": {},
     "output_type": "execute_result"
    }
   ],
   "source": [
    "labels"
   ]
  },
  {
   "cell_type": "code",
   "execution_count": 15,
   "metadata": {},
   "outputs": [],
   "source": [
    "flat_data = images.reshape((-1, 128 * 320 * COLOR_BYTE))\n",
    "images = flat_data.view()"
   ]
  },
  {
   "cell_type": "code",
   "execution_count": 22,
   "metadata": {
    "scrolled": false
   },
   "outputs": [
    {
     "name": "stdout",
     "output_type": "stream",
     "text": [
      "[[0 0 0 ... 0 0 0]\n",
      " [0 0 0 ... 0 0 0]\n",
      " [0 0 0 ... 0 0 0]\n",
      " ...\n",
      " [0 0 0 ... 0 0 0]\n",
      " [0 0 0 ... 0 0 0]\n",
      " [0 0 0 ... 0 0 0]]\n"
     ]
    }
   ],
   "source": [
    "print(images)"
   ]
  },
  {
   "cell_type": "code",
   "execution_count": null,
   "metadata": {},
   "outputs": [],
   "source": [
    "labels"
   ]
  },
  {
   "cell_type": "code",
   "execution_count": null,
   "metadata": {},
   "outputs": [],
   "source": []
  },
  {
   "cell_type": "code",
   "execution_count": null,
   "metadata": {},
   "outputs": [],
   "source": [
    "y,sr = librosa.load(wav,sr=16000,offset=0.0,duration=7.0)\n",
    "\n",
    "image = librosa.feature.melspectrogram(y=y,\n",
    "                                        sr=sr,\n",
    "                                        n_mels=128,\n",
    "                                        n_fft=512,\n",
    "                                        win_length=480,\n",
    "                                        hop_length=160,)\n",
    "\n",
    "# ディレクトリ名よりラベルを取得\n",
    "label = os.path.split(os.path.dirname(file))[-1]\n",
    "labels[idx] = int(label)"
   ]
  },
  {
   "cell_type": "code",
   "execution_count": null,
   "metadata": {},
   "outputs": [],
   "source": []
  },
  {
   "cell_type": "code",
   "execution_count": null,
   "metadata": {},
   "outputs": [],
   "source": []
  },
  {
   "cell_type": "code",
   "execution_count": null,
   "metadata": {},
   "outputs": [],
   "source": []
  },
  {
   "cell_type": "code",
   "execution_count": null,
   "metadata": {},
   "outputs": [],
   "source": []
  },
  {
   "cell_type": "code",
   "execution_count": null,
   "metadata": {},
   "outputs": [],
   "source": []
  },
  {
   "cell_type": "code",
   "execution_count": null,
   "metadata": {},
   "outputs": [],
   "source": []
  },
  {
   "cell_type": "code",
   "execution_count": null,
   "metadata": {},
   "outputs": [],
   "source": []
  },
  {
   "cell_type": "code",
   "execution_count": null,
   "metadata": {},
   "outputs": [],
   "source": []
  },
  {
   "cell_type": "code",
   "execution_count": null,
   "metadata": {},
   "outputs": [],
   "source": []
  },
  {
   "cell_type": "code",
   "execution_count": null,
   "metadata": {},
   "outputs": [],
   "source": []
  },
  {
   "cell_type": "code",
   "execution_count": null,
   "metadata": {},
   "outputs": [],
   "source": []
  },
  {
   "cell_type": "code",
   "execution_count": null,
   "metadata": {},
   "outputs": [],
   "source": []
  },
  {
   "cell_type": "code",
   "execution_count": null,
   "metadata": {},
   "outputs": [],
   "source": []
  },
  {
   "cell_type": "code",
   "execution_count": null,
   "metadata": {},
   "outputs": [],
   "source": []
  },
  {
   "cell_type": "code",
   "execution_count": null,
   "metadata": {},
   "outputs": [],
   "source": [
    "# n_mels is number of Mel bands to generate\n",
    "n_mels=128\n",
    "# hop_length is number of samples between successive frames.\n",
    "hop_length=2068\n",
    "# n_fft is length of the FFT window\n",
    "n_fft=2048\n",
    "# Passing through arguments to the Mel filters\n",
    "S = librosa.feature.melspectrogram(y=y, sr=sr, n_mels=n_mels, hop_length=hop_length, n_fft=n_fft)\n",
    "\n",
    "log_S = librosa.power_to_db(log_S, np.max)\n",
    "print(np.max)\n",
    "\n",
    "\n",
    "plt.figure(figsize=(12, 4))\n",
    "librosa.display.specshow(data=S, sr=sr, hop_length=hop_length, x_axis='time', y_axis='mel')\n",
    "#librosa.display.specshow(data=log_S, sr=sr, hop_length=hop_length, x_axis='time', y_axis='mel')\n",
    "plt.title('Mel spectrogram')\n",
    "plt.tight_layout()"
   ]
  },
  {
   "cell_type": "code",
   "execution_count": null,
   "metadata": {},
   "outputs": [],
   "source": [
    "# Load\n",
    "y, sr = librosa.load(audio_path,sr=16000)\n"
   ]
  },
  {
   "cell_type": "code",
   "execution_count": null,
   "metadata": {},
   "outputs": [],
   "source": [
    "import librosa\n",
    "import glob\n",
    "import numpy as np"
   ]
  },
  {
   "cell_type": "code",
   "execution_count": null,
   "metadata": {},
   "outputs": [],
   "source": [
    "def extract_mel(wav, sr, n_mels=64): #Output -> (timeframe, mel_dim)\n",
    "    audio, _ = librosa.load(wav, sr=sr)\n",
    "    mel = librosa.feature.melspectrogram(y=audio, sr=sr, n_mels=n_mels).T\n",
    "    return mel"
   ]
  },
  {
   "cell_type": "code",
   "execution_count": null,
   "metadata": {},
   "outputs": [],
   "source": [
    "def data_list(path, sr, n_mels=64):\n",
    "    wav_list = glob.glob(os.path.join(path, '*/*/*'))\n",
    "    size = len(wav_list)\n",
    "    data = np.ones((1, n_mels))\n",
    "    count= 0\n",
    "    for wavname in wav_list:\n",
    "        component = extract_mel(wavname, sr=sr, n_mels=64)\n",
    "        data = np.concatenate([data, component], axis=0)\n",
    "        count += 1\n",
    "        sys.stdout.write(\"\\r%s\" % \"現在\"+str(np.around((count/len(wav_list))*100 , 2))+\"%完了\")\n",
    "        sys.stdout.flush()\n",
    "    return data[1:], size"
   ]
  },
  {
   "cell_type": "code",
   "execution_count": null,
   "metadata": {},
   "outputs": [],
   "source": []
  },
  {
   "cell_type": "code",
   "execution_count": null,
   "metadata": {
    "scrolled": true
   },
   "outputs": [],
   "source": [
    "from pydub import AudioSegment\n"
   ]
  }
 ],
 "metadata": {
  "kernelspec": {
   "name": "python3",
   "display_name": "Python 3.6.12 64-bit ('spleeter': conda)",
   "metadata": {
    "interpreter": {
     "hash": "3dbb125119270d75a70a49e6abc2cb68ff6de13c30636ef30fa1f4ff9a05aaef"
    }
   }
  },
  "language_info": {
   "codemirror_mode": {
    "name": "ipython",
    "version": 3
   },
   "file_extension": ".py",
   "mimetype": "text/x-python",
   "name": "python",
   "nbconvert_exporter": "python",
   "pygments_lexer": "ipython3",
   "version": "3.6.12-final"
  }
 },
 "nbformat": 4,
 "nbformat_minor": 4
}