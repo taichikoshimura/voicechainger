{
  "cells": [
    {
      "cell_type": "code",
      "execution_count": null,
      "metadata": {
        "collapsed": false
      },
      "outputs": [],
      "source": [
        "%matplotlib inline"
      ]
    },
    {
      "cell_type": "markdown",
      "metadata": {},
      "source": [
        "\nAudio Classifier Tutorial\n=========================\n**Author**: `Winston Herring <https://github.com/winston6>`_\n\nThis tutorial will show you how to correctly format an audio dataset and\nthen train/test an audio classifier network on the dataset. First, let’s\nimport the common torch packages as well as ``torchaudio``, ``pandas``,\nand ``numpy``. ``torchaudio`` is available `here <https://github.com/pytorch/audio>`_\nand can be installed by following the\ninstructions on the website.\n\n\n"
      ]
    },
    {
      "cell_type": "markdown",
      "metadata": {},
      "source": [
        "Let’s check if a CUDA GPU is available and select our device. Running\nthe network on a GPU will greatly decrease the training/testing runtime.\n\n\n"
      ]
    },
    {
      "cell_type": "markdown",
      "metadata": {},
      "source": [
        "Importing the Dataset\n---------------------\n\nWe will use the UrbanSound8K dataset to train our network. It is\navailable for free `here <https://urbansounddataset.weebly.com/>`_ and contains\n10 audio classes with over 8000 audio samples! Once you have downloaded\nthe compressed dataset, extract it to your current working directory.\nFirst, we will look at the csv file that provides information about the\nindividual sound files. ``pandas`` allows us to open the csv file and\nuse ``.iloc()`` to access the data within it.\n\n\n"
      ]
    },
    {
      "cell_type": "markdown",
      "metadata": {},
      "source": [
        "The 10 audio classes in the UrbanSound8K dataset are air_conditioner,\ncar_horn, children_playing, dog_bark, drilling, enginge_idling,\ngun_shot, jackhammer, siren, and street_music. Let’s play a couple files\nand see what they sound like. The first file is street music and the\nsecond is an air conditioner.\n\n\n"
      ]
    },
    {
      "cell_type": "markdown",
      "metadata": {},
      "source": [
        "Formatting the Data\n-------------------\n\nNow that we know the format of the csv file entries, we can construct\nour dataset. We will create a rapper class for our dataset using\n``torch.utils.data.Dataset`` that will handle loading the files and\nperforming some formatting steps. The UrbanSound8K dataset is separated\ninto 10 folders. We will use the data from 9 of these folders to train\nour network and then use the 10th folder to test the network. The rapper\nclass will store the file names, labels, and folder numbers of the audio\nfiles in the inputted folder list when initialized. The actual loading\nand formatting steps will happen in the access function ``__getitem__``.\n\nIn ``__getitem__``, we use ``torchaudio.load()`` to convert the wav\nfiles to tensors. ``torchaudio.load()`` returns a tuple containing the\nnewly created tensor along with the sampling frequency of the audio file\n(44.1kHz for UrbanSound8K). The dataset uses two channels for audio so\nwe will use ``torchaudio.transforms.DownmixMono()`` to convert the audio\ndata to one channel. Next, we need to format the audio data. The network\nwe will make takes an input size of 32,000, while most of the audio\nfiles have well over 100,000 samples. The UrbanSound8K audio is sampled\nat 44.1kHz, so 32,000 samples only covers around 700 milliseconds. By\ndownsampling the audio to aproximately 8kHz, we can represent 4 seconds\nwith the 32,000 samples. This downsampling is achieved by taking every\nfifth sample of the original audio tensor. Not every audio tensor is\nlong enough to handle the downsampling so these tensors will need to be\npadded with zeros. The minimum length that won’t require padding is\n160,000 samples.\n\n\n"
      ]
    },
    {
      "cell_type": "code",
      "execution_count": null,
      "metadata": {
        "collapsed": false
      },
      "outputs": [],
      "source": [
        "#rapper for the UrbanSound8K dataset"
      ]
    },
    {
      "cell_type": "markdown",
      "metadata": {},
      "source": [
        "Define the Network\n------------------\n\nFor this tutorial we will use a convolutional neural network to process\nthe raw audio data. Usually more advanced transforms are applied to the\naudio data, however CNNs can be used to accurately process the raw data.\nThe specific architecture is modeled after the M5 network architecture\ndescribed in https://arxiv.org/pdf/1610.00087.pdf. An important aspect\nof models processing raw audio data is the receptive field of their\nfirst layer’s filters. Our model’s first filter is length 80 so when\nprocessing audio sampled at 8kHz the receptive field is around 10ms.\nThis size is similar to speech processing applications that often use\nreceptive fields ranging from 20ms to 40ms.\n\n\n"
      ]
    },
    {
      "cell_type": "markdown",
      "metadata": {},
      "source": [
        "We will use the same optimization technique used in the paper, an Adam\noptimizer with weight decay set to 0.0001. At first, we will train with\na learning rate of 0.01, but we will use a ``scheduler`` to decrease it\nto 0.001 during training.\n\n\n"
      ]
    },
    {
      "cell_type": "markdown",
      "metadata": {},
      "source": [
        "Training and Testing the Network\n--------------------------------\n\nNow let’s define a training function that will feed our training data\ninto the model and perform the backward pass and optimization steps.\n\n\n"
      ]
    },
    {
      "cell_type": "markdown",
      "metadata": {},
      "source": [
        "Now that we have a training function, we need to make one for testing\nthe networks accuracy. We will set the model to ``eval()`` mode and then\nrun inference on the test dataset. Calling ``eval()`` sets the training\nvariable in all modules in the network to false. Certain layers like\nbatch normalization and dropout layers behave differently during\ntraining so this step is crucial for getting correct results.\n\n\n"
      ]
    },
    {
      "cell_type": "markdown",
      "metadata": {},
      "source": [
        "Finally, we can train and test the network. We will train the network\nfor ten epochs then reduce the learn rate and train for ten more epochs.\nThe network will be tested after each epoch to see how the accuracy\nvaries during the training.\n\n<div class=\"alert alert-info\"><h4>Note</h4><p>Due to a build issue, we've reduced the number of epochs to 10.\n          Run this sample with 40 locally to get the proper values.</p></div>\n\n\n"
      ]
    },
    {
      "cell_type": "markdown",
      "metadata": {},
      "source": [
        "Conclusion\n----------\n\nIf trained on 9 folders, the network should be more than 50% accurate by\nthe end of the training process. Training on less folders will result in\na lower overall accuracy but may be necessary if long runtimes are a\nproblem. Greater accuracies can be achieved using deeper CNNs at the\nexpense of a larger memory footprint.\n\nFor more advanced audio applications, such as speech recognition,\nrecurrent neural networks (RNNs) are commonly used. There are also other\ndata preprocessing methods, such as finding the mel frequency cepstral\ncoefficients (MFCC), that can reduce the size of the dataset.\n\n\n"
      ]
    },
    {
      "cell_type": "code",
      "execution_count": null,
      "metadata": {
        "collapsed": false
      },
      "outputs": [],
      "source": [
        "# %%%%%%RUNNABLE_CODE_REMOVED%%%%%%"
      ]
    }
  ],
  "metadata": {
    "kernelspec": {
      "display_name": "Python 3",
      "language": "python",
      "name": "python3"
    },
    "language_info": {
      "codemirror_mode": {
        "name": "ipython",
        "version": 3
      },
      "file_extension": ".py",
      "mimetype": "text/x-python",
      "name": "python",
      "nbconvert_exporter": "python",
      "pygments_lexer": "ipython3",
      "version": "3.6.8"
    }
  },
  "nbformat": 4,
  "nbformat_minor": 0
}