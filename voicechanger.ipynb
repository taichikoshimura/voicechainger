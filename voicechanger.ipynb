{
 "cells": [
  {
   "cell_type": "code",
   "execution_count": 7,
   "metadata": {},
   "outputs": [],
   "source": [
    "#import torch\n",
    "#import torchaudio\n",
    "import matplotlib.pyplot as plt\n",
    "from sklearn.svm import SVC\n",
    "import librosa \n",
    "import os\n",
    "import numpy\n",
    "import scipy\n",
    "#device = torch.device('cuda:0')\n",
    "#print(torch.__version__)"
   ]
  },
  {
   "cell_type": "code",
   "execution_count": 8,
   "metadata": {},
   "outputs": [],
   "source": [
    "#音声データのルートディレクトリ\n",
    "ROOT_PATH = '/home/iot/notebooks/voicechainger/dataset/'\n"
   ]
  },
  {
   "cell_type": "code",
   "execution_count": 9,
   "metadata": {},
   "outputs": [],
   "source": [
    "#音声データ名\n",
    "speakers=['fujitou_normal',\"uemura_normal\"]"
   ]
  },
  {
   "cell_type": "code",
   "execution_count": 10,
   "metadata": {},
   "outputs": [],
   "source": [
    "word_training=[]    # 学習用のFCCの値を格納する配列\n",
    "speaker_training=[] # 学習用のラベルを格納する配列"
   ]
  },
  {
   "cell_type": "code",
   "execution_count": 11,
   "metadata": {},
   "outputs": [],
   "source": [
    "def getMfcc(filename):\n",
    "    y, sr = librosa.load(filename)      # 引数で受けとったファイル名でデータを読み込む。\n",
    "    return librosa.feature.mfcc(y=y, sr=sr) # MFCCの値を返します。"
   ]
  },
  {
   "cell_type": "code",
   "execution_count": 22,
   "metadata": {},
   "outputs": [
    {
     "ename": "AttributeError",
     "evalue": "module 'scipy' has no attribute 'io'",
     "output_type": "error",
     "traceback": [
      "\u001b[0;31m---------------------------------------------------------------------------\u001b[0m",
      "\u001b[0;31mAttributeError\u001b[0m                            Traceback (most recent call last)",
      "\u001b[0;32m<ipython-input-22-7112f30a37d6>\u001b[0m in \u001b[0;36m<module>\u001b[0;34m\u001b[0m\n\u001b[0;32m----> 1\u001b[0;31m \u001b[0my\u001b[0m\u001b[0;34m,\u001b[0m\u001b[0msr\u001b[0m \u001b[0;34m=\u001b[0m \u001b[0mscipy\u001b[0m\u001b[0;34m.\u001b[0m\u001b[0mio\u001b[0m\u001b[0;34m.\u001b[0m\u001b[0mwavefile\u001b[0m\u001b[0;34m.\u001b[0m\u001b[0mread\u001b[0m\u001b[0;34m(\u001b[0m\u001b[0;34m\"/home/iot/notebooks/voicechainger/dataset/fujitou_normal/fujitou_normal_001.wav\"\u001b[0m\u001b[0;34m)\u001b[0m\u001b[0;34m\u001b[0m\u001b[0;34m\u001b[0m\u001b[0m\n\u001b[0m\u001b[1;32m      2\u001b[0m \u001b[0mlibrosa\u001b[0m\u001b[0;34m.\u001b[0m\u001b[0mfeature\u001b[0m\u001b[0;34m.\u001b[0m\u001b[0mmelspectrogram\u001b[0m\u001b[0;34m(\u001b[0m\u001b[0my\u001b[0m\u001b[0;34m=\u001b[0m\u001b[0my\u001b[0m\u001b[0;34m,\u001b[0m \u001b[0msr\u001b[0m\u001b[0;34m=\u001b[0m\u001b[0msr\u001b[0m\u001b[0;34m,\u001b[0m\u001b[0mhop_length\u001b[0m\u001b[0;34m=\u001b[0m\u001b[0mhop_lemgth\u001b[0m\u001b[0;34m,\u001b[0m \u001b[0mwin_length\u001b[0m\u001b[0;34m=\u001b[0m\u001b[0mwin_length\u001b[0m \u001b[0;34m)\u001b[0m\u001b[0;34m\u001b[0m\u001b[0;34m\u001b[0m\u001b[0m\n",
      "\u001b[0;31mAttributeError\u001b[0m: module 'scipy' has no attribute 'io'"
     ]
    }
   ],
   "source": []
  },
  {
   "cell_type": "code",
   "execution_count": 13,
   "metadata": {},
   "outputs": [
    {
     "name": "stdout",
     "output_type": "stream",
     "text": [
      "Reading data of fujitou_normal...\n",
      "path /home/iot/notebooks/voicechainger/dataset/fujitou_normal\n",
      "Reading data of uemura_normal...\n",
      "path /home/iot/notebooks/voicechainger/dataset/uemura_normal\n"
     ]
    }
   ],
   "source": [
    "# 各ディレクトリごとにデータをロードし、MFCCを求めていく\n",
    "for speaker in speakers:\n",
    "    # どの話者のデータを読み込んでいるかを表示\n",
    "    print('Reading data of %s...' % speaker)\n",
    "    # 話者名でディレクトリを作成しているため<ルートパス+話者名>で読み込める。\n",
    "    path = os.path.join(ROOT_PATH + speaker)    \n",
    "    # パス、ディレクトリ名、ファイル名に分けることができる便利なメソッド\n",
    "    print(\"path\",path)\n",
    "    for pathname, dirnames, filenames in os.walk(path): \n",
    "        \n",
    "        for filename in filenames:\n",
    "            if filename.endswith('.wav'):\n",
    "                mfcc=getMfcc(os.path.join(pathname, filename))\n",
    "                word_training.append(mfcc.T)    # word_trainingにmfccの値を追加\n",
    "                label=numpy.full((mfcc.shape[1] ,), \n",
    "                speakers.index(speaker), dtype=numpy.int)   # labelをspeakersのindexで全て初期化\n",
    "                speaker_training.append(label)  # speaker_trainingにラベルを追加\n",
    "\n",
    "word_training=numpy.concatenate(word_training)  # ndarrayを結合\n",
    "speaker_training=numpy.concatenate(speaker_training)"
   ]
  },
  {
   "cell_type": "code",
   "execution_count": 14,
   "metadata": {},
   "outputs": [
    {
     "name": "stdout",
     "output_type": "stream",
     "text": [
      "[[-6.6066406e+02  1.1410446e+00  1.1401461e+00 ...  1.0570574e+00\n",
      "   1.0471573e+00  1.0367631e+00]\n",
      " [-6.6093982e+02  7.5113100e-01  7.5036061e-01 ...  6.7935735e-01\n",
      "   6.7091817e-01  6.6206384e-01]\n",
      " [-6.6067340e+02  1.1273654e+00  1.1250329e+00 ...  9.1680086e-01\n",
      "   8.9298606e-01  8.6821234e-01]\n",
      " ...\n",
      " [-7.0438275e+02  2.8157856e+00  2.8066204e+00 ...  2.0350227e+00\n",
      "   1.9528587e+00  1.8687596e+00]\n",
      " [-7.0470093e+02  2.3664937e+00  2.3595586e+00 ...  1.8057035e+00\n",
      "   1.7498310e+00  1.6931714e+00]\n",
      " [-7.0441199e+02  2.7679110e+00  2.7392612e+00 ...  1.0168092e+00\n",
      "   9.0377676e-01  7.9977059e-01]]\n",
      "[0 0 0 ... 1 1 1]\n"
     ]
    }
   ],
   "source": [
    "print(word_training)\n",
    "print(speaker_training)"
   ]
  },
  {
   "cell_type": "code",
   "execution_count": 12,
   "metadata": {},
   "outputs": [
    {
     "data": {
      "image/png": "[encoded data removed]",
      "text/plain": [
       "<Figure size 432x288 with 2 Axes>"
      ]
     },
     "metadata": {
      "needs_background": "light"
     },
     "output_type": "display_data"
    }
   ],
   "source": [
    "import librosa.display\n",
    "import matplotlib.pyplot as plt\n",
    "\n",
    "librosa.display.specshow(mel,\n",
    "                         x_axis='time',\n",
    "                         y_axis='linear',\n",
    "                         sr=sr,\n",
    "                         hop_length=160)\n",
    "\n",
    "plt.colorbar(format='%+2.0f')\n",
    "plt.title('/fujitou_normal_001.wav')\n",
    "plt.ylim(0, 4000)\n",
    "plt.tight_layout()\n",
    "plt.show()"
   ]
  },
  {
   "cell_type": "code",
   "execution_count": 15,
   "metadata": {},
   "outputs": [
    {
     "name": "stdout",
     "output_type": "stream",
     "text": [
      "Learning Done\n"
     ]
    }
   ],
   "source": [
    "# カーネル係数を1e-4で学習\n",
    "clf = SVC(C=1, gamma=1e-4)      # SVCはクラス分類をするためのメソッド\n",
    "clf.fit(word_training, speaker_training)    # MFCCの値とラベルを組み合わせて学習\n",
    "print('Learning Done')"
   ]
  },
  {
   "cell_type": "code",
   "execution_count": 16,
   "metadata": {},
   "outputs": [],
   "source": [
    "counts = []     # predictionの中で各値（予測される話者のインデックス）が何回出ているかのカウント\n",
    "file_list = []  # file名を格納する配列\n",
    "\n",
    "# 各話者のテストデータが入っている~testというディレクトリごとにMFCCを求めていく\n",
    "for speaker in speakers:\n",
    "    path = os.path.join(ROOT_PATH + '%s_test' % speaker)\n",
    "    for pathname, dirnames, filenames in os.walk(path):\n",
    "        for filename in filenames:\n",
    "            if filename.endswith('.wav'):\n",
    "                mfcc = getMfcc(os.path.join(pathname, filename))\n",
    "                prediction = clf.predict(mfcc.T)    # MFCCの値から予測した結果を代入\n",
    "                # predictionの中で各値（予測される話者のインデックス）が何回出ているかをカウントして追加\n",
    "                counts.append(numpy.bincount(prediction))   \n",
    "                file_list.append(filename)  # 実際のファイル名を追加"
   ]
  },
  {
   "cell_type": "code",
   "execution_count": 17,
   "metadata": {},
   "outputs": [
    {
     "name": "stdout",
     "output_type": "stream",
     "text": [
      "score : 0.02\n"
     ]
    }
   ],
   "source": [
    "total = 0   # データの総数\n",
    "correct = 0 # 正解の数\n",
    "\n",
    "# 推測される話者の名前がファイル名の頭と一致したらCorrect\n",
    "for filename, count in zip(file_list, counts):\n",
    "    total += 1\n",
    "    result = speakers[numpy.argmax(count-count.mean(axis=0))]   # \n",
    "    if  filename.startswith(result):\n",
    "        correct += 1\n",
    "\n",
    "print('score : ' + str(correct / total))"
   ]
  },
  {
   "cell_type": "code",
   "execution_count": 18,
   "metadata": {},
   "outputs": [
    {
     "ename": "NameError",
     "evalue": "name 'waveform' is not defined",
     "output_type": "error",
     "traceback": [
      "\u001b[0;31m---------------------------------------------------------------------------\u001b[0m",
      "\u001b[0;31mNameError\u001b[0m                                 Traceback (most recent call last)",
      "\u001b[0;32m<ipython-input-18-77a8c27da9fc>\u001b[0m in \u001b[0;36m<module>\u001b[0;34m\u001b[0m\n\u001b[0;32m----> 1\u001b[0;31m \u001b[0mprint\u001b[0m\u001b[0;34m(\u001b[0m\u001b[0;34m\"Shape of waveform: {}\"\u001b[0m\u001b[0;34m.\u001b[0m\u001b[0mformat\u001b[0m\u001b[0;34m(\u001b[0m\u001b[0mwaveform\u001b[0m\u001b[0;34m.\u001b[0m\u001b[0msize\u001b[0m\u001b[0;34m(\u001b[0m\u001b[0;34m)\u001b[0m\u001b[0;34m)\u001b[0m\u001b[0;34m)\u001b[0m\u001b[0;34m\u001b[0m\u001b[0;34m\u001b[0m\u001b[0m\n\u001b[0m\u001b[1;32m      2\u001b[0m \u001b[0mprint\u001b[0m\u001b[0;34m(\u001b[0m\u001b[0;34m\"Sample rate of waveform: {}\"\u001b[0m\u001b[0;34m.\u001b[0m\u001b[0mformat\u001b[0m\u001b[0;34m(\u001b[0m\u001b[0msample_rate\u001b[0m\u001b[0;34m)\u001b[0m\u001b[0;34m)\u001b[0m\u001b[0;34m\u001b[0m\u001b[0;34m\u001b[0m\u001b[0m\n\u001b[1;32m      3\u001b[0m \u001b[0mplt\u001b[0m\u001b[0;34m.\u001b[0m\u001b[0mfigure\u001b[0m\u001b[0;34m(\u001b[0m\u001b[0;34m)\u001b[0m\u001b[0;34m\u001b[0m\u001b[0;34m\u001b[0m\u001b[0m\n\u001b[1;32m      4\u001b[0m \u001b[0mplt\u001b[0m\u001b[0;34m.\u001b[0m\u001b[0mplot\u001b[0m\u001b[0;34m(\u001b[0m\u001b[0mwaveform\u001b[0m\u001b[0;34m.\u001b[0m\u001b[0mt\u001b[0m\u001b[0;34m(\u001b[0m\u001b[0;34m)\u001b[0m\u001b[0;34m.\u001b[0m\u001b[0mnumpy\u001b[0m\u001b[0;34m(\u001b[0m\u001b[0;34m)\u001b[0m\u001b[0;34m)\u001b[0m\u001b[0;34m\u001b[0m\u001b[0;34m\u001b[0m\u001b[0m\n",
      "\u001b[0;31mNameError\u001b[0m: name 'waveform' is not defined"
     ]
    }
   ],
   "source": [
    "print(\"Shape of waveform: {}\".format(waveform.size()))\n",
    "print(\"Sample rate of waveform: {}\".format(sample_rate))\n",
    "plt.figure()\n",
    "plt.plot(waveform.t().numpy())"
   ]
  },
  {
   "cell_type": "code",
   "execution_count": 19,
   "metadata": {},
   "outputs": [
    {
     "ename": "NameError",
     "evalue": "name 'torchaudio' is not defined",
     "output_type": "error",
     "traceback": [
      "\u001b[0;31m---------------------------------------------------------------------------\u001b[0m",
      "\u001b[0;31mNameError\u001b[0m                                 Traceback (most recent call last)",
      "\u001b[0;32m<ipython-input-19-fbc9e852419a>\u001b[0m in \u001b[0;36m<module>\u001b[0;34m\u001b[0m\n\u001b[0;32m----> 1\u001b[0;31m \u001b[0mspecgram\u001b[0m \u001b[0;34m=\u001b[0m \u001b[0mtorchaudio\u001b[0m\u001b[0;34m.\u001b[0m\u001b[0mtransforms\u001b[0m\u001b[0;34m.\u001b[0m\u001b[0mSpectrogram\u001b[0m\u001b[0;34m(\u001b[0m\u001b[0;34m)\u001b[0m\u001b[0;34m(\u001b[0m\u001b[0mwaveform\u001b[0m\u001b[0;34m)\u001b[0m\u001b[0;34m\u001b[0m\u001b[0;34m\u001b[0m\u001b[0m\n\u001b[0m\u001b[1;32m      2\u001b[0m \u001b[0mprint\u001b[0m\u001b[0;34m(\u001b[0m\u001b[0;34m\"Shape of spectrogram: {}\"\u001b[0m\u001b[0;34m.\u001b[0m\u001b[0mformat\u001b[0m\u001b[0;34m(\u001b[0m\u001b[0mspecgram\u001b[0m\u001b[0;34m.\u001b[0m\u001b[0msize\u001b[0m\u001b[0;34m(\u001b[0m\u001b[0;34m)\u001b[0m\u001b[0;34m)\u001b[0m\u001b[0;34m)\u001b[0m\u001b[0;34m\u001b[0m\u001b[0;34m\u001b[0m\u001b[0m\n\u001b[1;32m      3\u001b[0m \u001b[0mplt\u001b[0m\u001b[0;34m.\u001b[0m\u001b[0mfigure\u001b[0m\u001b[0;34m(\u001b[0m\u001b[0;34m)\u001b[0m\u001b[0;34m\u001b[0m\u001b[0;34m\u001b[0m\u001b[0m\n\u001b[1;32m      4\u001b[0m \u001b[0mplt\u001b[0m\u001b[0;34m.\u001b[0m\u001b[0mimshow\u001b[0m\u001b[0;34m(\u001b[0m\u001b[0mspecgram\u001b[0m\u001b[0;34m.\u001b[0m\u001b[0mlog2\u001b[0m\u001b[0;34m(\u001b[0m\u001b[0;34m)\u001b[0m\u001b[0;34m[\u001b[0m\u001b[0;36m0\u001b[0m\u001b[0;34m,\u001b[0m\u001b[0;34m:\u001b[0m\u001b[0;34m,\u001b[0m\u001b[0;34m:\u001b[0m\u001b[0;34m]\u001b[0m\u001b[0;34m.\u001b[0m\u001b[0mnumpy\u001b[0m\u001b[0;34m(\u001b[0m\u001b[0;34m)\u001b[0m\u001b[0;34m,\u001b[0m \u001b[0mcmap\u001b[0m\u001b[0;34m=\u001b[0m\u001b[0;34m'gray'\u001b[0m\u001b[0;34m)\u001b[0m\u001b[0;34m\u001b[0m\u001b[0;34m\u001b[0m\u001b[0m\n",
      "\u001b[0;31mNameError\u001b[0m: name 'torchaudio' is not defined"
     ]
    }
   ],
   "source": [
    "specgram = torchaudio.transforms.Spectrogram()(waveform)\n",
    "print(\"Shape of spectrogram: {}\".format(specgram.size()))\n",
    "plt.figure()\n",
    "plt.imshow(specgram.log2()[0,:,:].numpy(), cmap='gray')"
   ]
  },
  {
   "cell_type": "code",
   "execution_count": 51,
   "metadata": {},
   "outputs": [
    {
     "name": "stdout",
     "output_type": "stream",
     "text": [
      "tensor([[[3.0820e-05, 1.8261e-05, 6.6538e-07,  ..., 4.0046e-07,\n",
      "          1.6783e-06, 2.1682e-05],\n",
      "         [7.0454e-06, 5.8383e-06, 2.5485e-06,  ..., 1.4624e-05,\n",
      "          9.4132e-07, 7.5208e-06],\n",
      "         [7.8559e-08, 2.3399e-09, 2.9551e-07,  ..., 5.1487e-06,\n",
      "          1.8955e-06, 5.6587e-07],\n",
      "         ...,\n",
      "         [5.1868e-06, 2.0740e-06, 2.3419e-06,  ..., 8.4794e-07,\n",
      "          4.9973e-07, 1.1911e-06],\n",
      "         [8.4004e-07, 7.4800e-06, 1.0439e-06,  ..., 5.2665e-07,\n",
      "          2.3289e-06, 2.3278e-06],\n",
      "         [7.6776e-06, 2.6871e-06, 9.0047e-06,  ..., 4.2106e-07,\n",
      "          6.4499e-06, 1.8260e-07]]])\n"
     ]
    }
   ],
   "source": [
    "print(specgram)"
   ]
  },
  {
   "cell_type": "code",
   "execution_count": 54,
   "metadata": {},
   "outputs": [
    {
     "name": "stdout",
     "output_type": "stream",
     "text": [
      "tensor([[-14.9858, -15.7409, -20.5193,  ..., -21.2518, -19.1846, -15.4931],\n",
      "        [-17.1149, -17.3860, -18.5819,  ..., -16.0613, -20.0188, -17.0207],\n",
      "        [-23.6016, -28.6709, -21.6903,  ..., -17.5674, -19.0090, -20.7530],\n",
      "        ...,\n",
      "        [-17.5567, -18.8791, -18.7039,  ..., -20.1695, -20.9323, -19.6792],\n",
      "        [-20.1830, -17.0285, -19.8696,  ..., -20.8567, -18.7119, -18.7126],\n",
      "        [-16.9909, -18.5055, -16.7609,  ..., -21.1795, -17.2423, -22.3848]])\n"
     ]
    }
   ],
   "source": [
    "print(specgram.log2()[0,:,:])"
   ]
  },
  {
   "cell_type": "code",
   "execution_count": null,
   "metadata": {},
   "outputs": [],
   "source": []
  },
  {
   "cell_type": "code",
   "execution_count": 15,
   "metadata": {},
   "outputs": [
    {
     "name": "stdout",
     "output_type": "stream",
     "text": [
      "tensor([1., 1., 1., 1.], device='cuda:0', dtype=torch.float64)\n",
      "tensor([[0.],\n",
      "        [0.],\n",
      "        [0.],\n",
      "        [0.]], device='cuda:0')\n"
     ]
    }
   ],
   "source": [
    "#cuda(gpu)の使い方\n",
    "c = torch.ones([4], dtype=torch.float64, device=device)\n",
    "d = torch.zeros([4, 1])\n",
    "d = d.to(device)\n",
    "print(c)\n",
    "print(d)"
   ]
  },
  {
   "cell_type": "code",
   "execution_count": 41,
   "metadata": {},
   "outputs": [
    {
     "name": "stdout",
     "output_type": "stream",
     "text": [
      "Net(\n",
      "  (conv1): Conv2d(1, 6, kernel_size=(3, 3), stride=(1, 1))\n",
      "  (conv2): Conv2d(6, 16, kernel_size=(3, 3), stride=(1, 1))\n",
      "  (fc1): Linear(in_features=576, out_features=120, bias=True)\n",
      "  (fc2): Linear(in_features=120, out_features=84, bias=True)\n",
      "  (fc3): Linear(in_features=84, out_features=10, bias=True)\n",
      ")\n"
     ]
    }
   ],
   "source": [
    "import torch\n",
    "import torch.nn as nn\n",
    "import torch.nn.functional as F\n",
    "\n",
    "\n",
    "class Net(nn.Module):\n",
    "\n",
    "    def __init__(self):\n",
    "        super(Net, self).__init__()\n",
    "        # 1 input image channel, 6 output channels, 3x3 square convolution\n",
    "        # kernel\n",
    "        self.conv1 = nn.Conv2d(1, 6, 3)\n",
    "        self.conv2 = nn.Conv2d(6, 16, 3)\n",
    "        # an affine operation: y = Wx + b\n",
    "        self.fc1 = nn.Linear(16 * 6 * 6, 120)  # 6*6 from image dimension\n",
    "        self.fc2 = nn.Linear(120, 84)\n",
    "        self.fc3 = nn.Linear(84, 10)\n",
    "\n",
    "    def forward(self, x):\n",
    "        # Max pooling over a (2, 2) window\n",
    "        x = F.max_pool2d(F.relu(self.conv1(x)), (2, 2))\n",
    "        # If the size is a square you can only specify a single number\n",
    "        x = F.max_pool2d(F.relu(self.conv2(x)), 2)\n",
    "        x = x.view(-1, self.num_flat_features(x))\n",
    "        x = F.relu(self.fc1(x))\n",
    "        x = F.relu(self.fc2(x))\n",
    "        x = self.fc3(x)\n",
    "        return x\n",
    "\n",
    "    def num_flat_features(self, x):\n",
    "        size = x.size()[1:]  # all dimensions except the batch dimension\n",
    "        num_features = 1\n",
    "        for s in size:\n",
    "            num_features *= s\n",
    "        return num_features\n",
    "\n",
    "\n",
    "net = Net()\n",
    "print(net)"
   ]
  },
  {
   "cell_type": "code",
   "execution_count": 42,
   "metadata": {},
   "outputs": [
    {
     "name": "stdout",
     "output_type": "stream",
     "text": [
      "10\n",
      "torch.Size([6, 1, 3, 3])\n"
     ]
    }
   ],
   "source": [
    "params = list(net.parameters())\n",
    "print(len(params))\n",
    "print(params[0].size())  # conv1's .weight"
   ]
  },
  {
   "cell_type": "code",
   "execution_count": 43,
   "metadata": {},
   "outputs": [
    {
     "name": "stdout",
     "output_type": "stream",
     "text": [
      "tensor([[-0.0437, -0.0025,  0.0203, -0.0644, -0.0327, -0.0828,  0.0859, -0.0147,\n",
      "         -0.0671, -0.1345]], grad_fn=<AddmmBackward>)\n"
     ]
    }
   ],
   "source": [
    "input = torch.randn(1, 1, 32, 32)\n",
    "out = net(input)\n",
    "print(out)"
   ]
  },
  {
   "cell_type": "code",
   "execution_count": 44,
   "metadata": {},
   "outputs": [],
   "source": [
    "net.zero_grad()\n",
    "out.backward(torch.randn(1, 10))"
   ]
  },
  {
   "cell_type": "code",
   "execution_count": 45,
   "metadata": {},
   "outputs": [
    {
     "name": "stdout",
     "output_type": "stream",
     "text": [
      "tensor(0.5695, grad_fn=<MseLossBackward>)\n"
     ]
    }
   ],
   "source": [
    "output = net(input)\n",
    "target = torch.randn(10)  # a dummy target, for example\n",
    "target = target.view(1, -1)  # make it the same shape as output\n",
    "criterion = nn.MSELoss()\n",
    "\n",
    "loss = criterion(output, target)\n",
    "print(loss)"
   ]
  },
  {
   "cell_type": "code",
   "execution_count": 47,
   "metadata": {},
   "outputs": [
    {
     "name": "stdout",
     "output_type": "stream",
     "text": [
      "<MseLossBackward object at 0x7efcb45eab20>\n",
      "<AddmmBackward object at 0x7efcb467a580>\n",
      "<AccumulateGrad object at 0x7efcb45eab20>\n"
     ]
    }
   ],
   "source": [
    "print(loss.grad_fn)  # MSELoss\n",
    "print(loss.grad_fn.next_functions[0][0])  # Linear\n",
    "print(loss.grad_fn.next_functions[0][0].next_functions[0][0])  # ReLU"
   ]
  },
  {
   "cell_type": "code",
   "execution_count": 48,
   "metadata": {},
   "outputs": [
    {
     "name": "stdout",
     "output_type": "stream",
     "text": [
      "conv1.bias.grad before backward\n",
      "tensor([0., 0., 0., 0., 0., 0.])\n",
      "conv1.bias.grad after backward\n",
      "tensor([-0.0122,  0.0002,  0.0117,  0.0004,  0.0076,  0.0015])\n"
     ]
    }
   ],
   "source": [
    "net.zero_grad()     # zeroes the gradient buffers of all parameters\n",
    "\n",
    "print('conv1.bias.grad before backward')\n",
    "print(net.conv1.bias.grad)\n",
    "\n",
    "loss.backward()\n",
    "\n",
    "print('conv1.bias.grad after backward')\n",
    "print(net.conv1.bias.grad)"
   ]
  },
  {
   "cell_type": "markdown",
   "metadata": {},
   "source": [
    "## LOW MEL"
   ]
  },
  {
   "cell_type": "code",
   "execution_count": 4,
   "metadata": {},
   "outputs": [
    {
     "name": "stdout",
     "output_type": "stream",
     "text": [
      "(128, 1238)\n"
     ]
    },
    {
     "data": {
      "image/png": "[encoded data removed]",
      "text/plain": [
       "<Figure size 432x288 with 2 Axes>"
      ]
     },
     "metadata": {
      "needs_background": "light"
     },
     "output_type": "display_data"
    }
   ],
   "source": [
    "import librosa\n",
    "import numpy as np\n",
    "\n",
    "# Audio Data\n",
    "audio_path = '/home/iot/notebooks/voicechainger/dataset/fujitou_normal/fujitou_normal_002.wav'\n",
    "\n",
    "# Load\n",
    "data, sr = librosa.load(\n",
    "    audio_path,\n",
    "    sr=16000)\n",
    "\n",
    "# メル周波数のスペクトログラムを求める\n",
    "mel = librosa.feature.melspectrogram(y=data,\n",
    "                                     sr=sr,\n",
    "                                     n_mels=128,\n",
    "                                     n_fft=512,\n",
    "                                     win_length=480,\n",
    "                                     hop_length=160)\n",
    "\n",
    "print(mel.shape)  # --> (128, 101)\n",
    "\n",
    "# plot\n",
    "import librosa.display\n",
    "import matplotlib.pyplot as plt\n",
    "\n",
    "librosa.display.specshow(mel,\n",
    "                         x_axis='time',\n",
    "                         y_axis='linear',\n",
    "                         sr=sr,\n",
    "                         hop_length=160)\n",
    "\n",
    "plt.colorbar(format='%+2.0f')\n",
    "plt.title('/fujitou_normal_001.wav')\n",
    "plt.ylim(0, 4000)\n",
    "plt.tight_layout()\n",
    "plt.show()"
   ]
  },
  {
   "cell_type": "code",
   "execution_count": 34,
   "metadata": {},
   "outputs": [
    {
     "data": {
      "text/plain": [
       "array([[4.05402631e-07, 2.12712507e-07, 1.15799153e-07, ...,\n",
       "        1.21678070e-07, 2.58193751e-07, 1.83992384e-07],\n",
       "       [2.58693916e-07, 1.40086186e-07, 1.05347006e-07, ...,\n",
       "        9.78880905e-08, 2.41108751e-07, 1.09241292e-07],\n",
       "       [1.09306228e-07, 6.63033290e-08, 9.59305879e-08, ...,\n",
       "        7.44531334e-08, 2.26689224e-07, 3.28067067e-08],\n",
       "       ...,\n",
       "       [1.81675300e-10, 3.16532189e-10, 2.82116802e-10, ...,\n",
       "        2.71390160e-10, 2.40431536e-10, 1.96501260e-10],\n",
       "       [5.25423108e-11, 2.35258046e-11, 2.49341919e-11, ...,\n",
       "        6.25522273e-11, 8.35229108e-11, 2.36117445e-11],\n",
       "       [9.73160138e-13, 8.30422862e-13, 1.47408995e-12, ...,\n",
       "        4.75264619e-12, 1.36718284e-12, 1.02586678e-12]], dtype=float32)"
      ]
     },
     "execution_count": 34,
     "metadata": {},
     "output_type": "execute_result"
    }
   ],
   "source": [
    "mel"
   ]
  },
  {
   "cell_type": "markdown",
   "metadata": {},
   "source": [
    "## Slaney formula"
   ]
  },
  {
   "cell_type": "code",
   "execution_count": 28,
   "metadata": {},
   "outputs": [
    {
     "data": {
      "text/plain": [
       "22.622820235962482"
      ]
     },
     "execution_count": 28,
     "metadata": {},
     "output_type": "execute_result"
    }
   ],
   "source": [
    "mel_slaney = librosa.hz_to_mel(8000) / 2\n",
    "mel_slaney"
   ]
  },
  {
   "cell_type": "code",
   "execution_count": 29,
   "metadata": {},
   "outputs": [
    {
     "data": {
      "text/plain": [
       "1688.90846266178"
      ]
     },
     "execution_count": 29,
     "metadata": {},
     "output_type": "execute_result"
    }
   ],
   "source": [
    "librosa.mel_to_hz(mel_slaney)"
   ]
  },
  {
   "cell_type": "markdown",
   "metadata": {},
   "source": [
    "## HTK formula"
   ]
  },
  {
   "cell_type": "code",
   "execution_count": 30,
   "metadata": {},
   "outputs": [
    {
     "data": {
      "text/plain": [
       "1420.0115233541594"
      ]
     },
     "execution_count": 30,
     "metadata": {},
     "output_type": "execute_result"
    }
   ],
   "source": [
    "mel_htk = librosa.hz_to_mel(8000, htk=True) / 2\n",
    "mel_htk"
   ]
  },
  {
   "cell_type": "code",
   "execution_count": 31,
   "metadata": {},
   "outputs": [
    {
     "data": {
      "text/plain": [
       "1767.7925358506134"
      ]
     },
     "execution_count": 31,
     "metadata": {},
     "output_type": "execute_result"
    }
   ],
   "source": [
    "librosa.mel_to_hz(mel_htk, htk=True)"
   ]
  },
  {
   "cell_type": "code",
   "execution_count": 32,
   "metadata": {},
   "outputs": [],
   "source": [
    "log_mel = np.log(mel)"
   ]
  },
  {
   "cell_type": "markdown",
   "metadata": {},
   "source": [
    "## mel sklearn"
   ]
  },
  {
   "cell_type": "code",
   "execution_count": null,
   "metadata": {},
   "outputs": [],
   "source": [
    "\n",
    "\n",
    "import matplotlib.pyplot as plt\n",
    "from sklearn.svm import SVC\n",
    "import librosa \n",
    "import os\n",
    "import numpy\n",
    "import scipy"
   ]
  },
  {
   "cell_type": "code",
   "execution_count": 40,
   "metadata": {},
   "outputs": [],
   "source": [
    "ROOT_PATH = '/home/iot/notebooks/voicechainger/dataset/'\n",
    "#音声データ名\n",
    "speakers=['fujitou_normal',\"uemura_normal\"]"
   ]
  },
  {
   "cell_type": "code",
   "execution_count": 41,
   "metadata": {},
   "outputs": [],
   "source": [
    "word_training=[]    # 学習用のFCCの値を格納する配列\n",
    "speaker_training=[] # 学習用のラベルを格納する配列"
   ]
  },
  {
   "cell_type": "code",
   "execution_count": 42,
   "metadata": {},
   "outputs": [],
   "source": [
    "def getMfcc(filename):\n",
    "    y, sr = librosa.load(filename,sr=16000)      # 引数で受けとったファイル名でデータを読み込む。\n",
    "    return librosa.feature.melspectrogram(y=data,sr=sr,n_mels=128,n_fft=512,win_length=480,hop_length=160)"
   ]
  },
  {
   "cell_type": "code",
   "execution_count": 43,
   "metadata": {},
   "outputs": [
    {
     "name": "stdout",
     "output_type": "stream",
     "text": [
      "Reading data of fujitou_normal...\n",
      "path /home/iot/notebooks/voicechainger/dataset/fujitou_normal\n",
      "Reading data of uemura_normal...\n",
      "path /home/iot/notebooks/voicechainger/dataset/uemura_normal\n"
     ]
    }
   ],
   "source": [
    "for speaker in speakers:\n",
    "    # どの話者のデータを読み込んでいるかを表示\n",
    "    print('Reading data of %s...' % speaker)\n",
    "    # 話者名でディレクトリを作成しているため<ルートパス+話者名>で読み込める。\n",
    "    path = os.path.join(ROOT_PATH + speaker)    \n",
    "    # パス、ディレクトリ名、ファイル名に分けることができる便利なメソッド\n",
    "    print(\"path\",path)\n",
    "    for pathname, dirnames, filenames in os.walk(path): \n",
    "        for filename in filenames:\n",
    "            if filename.endswith('.wav'):\n",
    "                mel=getMfcc(os.path.join(pathname, filename))\n",
    "                word_training.append(mel.T)    # word_trainingにmfccの値を追加\n",
    "                label=numpy.full((mel.shape[1] ,), \n",
    "                speakers.index(speaker), dtype=numpy.int)   # labelをspeakersのindexで全て初期化\n",
    "                speaker_training.append(label)  # speaker_trainingにラベルを追加\n",
    "\n",
    "word_training=numpy.concatenate(word_training)  # ndarrayを結合\n",
    "speaker_training=numpy.concatenate(speaker_training)"
   ]
  },
  {
   "cell_type": "code",
   "execution_count": null,
   "metadata": {},
   "outputs": [],
   "source": [
    "# カーネル係数を1e-4で学習\n",
    "clf = SVC(C=1, gamma=1e-4)      # SVCはクラス分類をするためのメソッド\n",
    "clf.fit(word_training, speaker_training)    # MFCCの値とラベルを組み合わせて学習\n",
    "print('Learning Done')"
   ]
  },
  {
   "cell_type": "code",
   "execution_count": null,
   "metadata": {},
   "outputs": [],
   "source": []
  }
 ],
 "metadata": {
  "kernelspec": {
   "display_name": "Python 3",
   "language": "python",
   "name": "python3"
  },
  "language_info": {
   "codemirror_mode": {
    "name": "ipython",
    "version": 3
   },
   "file_extension": ".py",
   "mimetype": "text/x-python",
   "name": "python",
   "nbconvert_exporter": "python",
   "pygments_lexer": "ipython3",
   "version": "3.6.10"
  }
 },
 "nbformat": 4,
 "nbformat_minor": 2
}
